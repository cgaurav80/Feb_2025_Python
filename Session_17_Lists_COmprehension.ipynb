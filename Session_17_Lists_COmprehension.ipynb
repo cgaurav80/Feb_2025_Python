{
 "cells": [
  {
   "cell_type": "markdown",
   "id": "a9d7c556",
   "metadata": {},
   "source": [
    "**List comprehension**"
   ]
  },
  {
   "cell_type": "markdown",
   "id": "fbe90241",
   "metadata": {},
   "source": [
    "- write list operations in a single line\n",
    "- when we apply for loop and if-else condition statements then code complilation becomes slow"
   ]
  },
  {
   "cell_type": "markdown",
   "id": "bd2a5791",
   "metadata": {},
   "source": [
    "- in order to avoid time complexity we will use list comprehesion\n",
    "- List comprehension is a single line code"
   ]
  },
  {
   "cell_type": "code",
   "execution_count": 1,
   "id": "11398543",
   "metadata": {},
   "outputs": [
    {
     "data": {
      "text/plain": [
       "[0, 1, 2, 3, 4, 5, 6, 7, 8, 9]"
      ]
     },
     "execution_count": 1,
     "metadata": {},
     "output_type": "execute_result"
    }
   ],
   "source": [
    "list1=[]\n",
    "for i in range(10):\n",
    "    list1.append(i)\n",
    "list1"
   ]
  },
  {
   "cell_type": "code",
   "execution_count": 2,
   "id": "554745c5",
   "metadata": {},
   "outputs": [
    {
     "data": {
      "text/plain": [
       "[0, 1, 2, 3, 4, 5, 6, 7, 8, 9]"
      ]
     },
     "execution_count": 2,
     "metadata": {},
     "output_type": "execute_result"
    }
   ],
   "source": [
    "list1=[i for i in range(10)]\n",
    "list1"
   ]
  },
  {
   "cell_type": "code",
   "execution_count": 11,
   "id": "31902c74",
   "metadata": {},
   "outputs": [
    {
     "data": {
      "text/plain": [
       "['Hyd', 'Bengaluru', 'Pune', 'Mumbai']"
      ]
     },
     "execution_count": 11,
     "metadata": {},
     "output_type": "execute_result"
    }
   ],
   "source": [
    "input1=['hyd','bengaluru','pune','mumbai']\n",
    "output=[i.capitalize() for i in input1]\n",
    "output"
   ]
  },
  {
   "cell_type": "code",
   "execution_count": 12,
   "id": "f5f94bb7",
   "metadata": {},
   "outputs": [
    {
     "data": {
      "text/plain": [
       "['HYD', 'BENGALURU', 'PUNE', 'MUMBAI']"
      ]
     },
     "execution_count": 12,
     "metadata": {},
     "output_type": "execute_result"
    }
   ],
   "source": [
    "input1=['hyd','bengaluru','pune','mumbai']\n",
    "output=[i.upper() for i in input1]\n",
    "output"
   ]
  },
  {
   "cell_type": "code",
   "execution_count": 33,
   "id": "94372d8e",
   "metadata": {},
   "outputs": [
    {
     "data": {
      "text/plain": [
       "55"
      ]
     },
     "execution_count": 33,
     "metadata": {},
     "output_type": "execute_result"
    }
   ],
   "source": [
    "input1=['hyd','bengaluru','pune','mumbai']\n",
    "summ=0\n",
    "output=[summ:=summ+i for i in range(1,11)][-1]\n",
    "summ\n",
    "output"
   ]
  },
  {
   "cell_type": "markdown",
   "id": "35e0e73e",
   "metadata": {},
   "source": [
    "**walrus operator**"
   ]
  },
  {
   "cell_type": "code",
   "execution_count": null,
   "id": "9facb0e1",
   "metadata": {},
   "outputs": [],
   "source": [
    "input1=['hyd','bengaluru','pune','mumbai']\n",
    "summ=0\n",
    "output=[summ:=summ+i for i in range(1,11)][-1]\n",
    "summ\n",
    "output"
   ]
  },
  {
   "cell_type": "code",
   "execution_count": 34,
   "id": "d3f22016",
   "metadata": {},
   "outputs": [],
   "source": [
    "#even number\n",
    "even_list=[i for i in range(1,10) if i%2==0]"
   ]
  },
  {
   "cell_type": "code",
   "execution_count": 35,
   "id": "35b511f7",
   "metadata": {},
   "outputs": [
    {
     "data": {
      "text/plain": [
       "[2, 4, 6, 8]"
      ]
     },
     "execution_count": 35,
     "metadata": {},
     "output_type": "execute_result"
    }
   ],
   "source": [
    "even_list"
   ]
  },
  {
   "cell_type": "code",
   "execution_count": 36,
   "id": "b64fabae",
   "metadata": {},
   "outputs": [],
   "source": [
    "# Q5) input=['hyd','ben#galuru','pune','mu#mbai']\n",
    "#     output=[ben#galuru',mu#mbai']\n",
    "input1=['hyd','ben#galuru','pune','mu#mbai']\n",
    "output=[i for i in input1 if '#' in i]"
   ]
  },
  {
   "cell_type": "code",
   "execution_count": 37,
   "id": "f0b9fbc7",
   "metadata": {},
   "outputs": [
    {
     "data": {
      "text/plain": [
       "['ben#galuru', 'mu#mbai']"
      ]
     },
     "execution_count": 37,
     "metadata": {},
     "output_type": "execute_result"
    }
   ],
   "source": [
    "output"
   ]
  },
  {
   "cell_type": "code",
   "execution_count": 38,
   "id": "7bfa184c",
   "metadata": {},
   "outputs": [
    {
     "data": {
      "text/plain": [
       "['hyd', 'pune']"
      ]
     },
     "execution_count": 38,
     "metadata": {},
     "output_type": "execute_result"
    }
   ],
   "source": [
    "input1=['hyd','ben#galuru','pune','mu#mbai']\n",
    "output=[i for i in input1 if '#' not in i]\n",
    "output"
   ]
  },
  {
   "cell_type": "code",
   "execution_count": 42,
   "id": "f4ffff27",
   "metadata": {},
   "outputs": [
    {
     "data": {
      "text/plain": [
       "['odd:1',\n",
       " 'even:2',\n",
       " 'odd:3',\n",
       " 'even:4',\n",
       " 'odd:5',\n",
       " 'even:6',\n",
       " 'odd:7',\n",
       " 'even:8',\n",
       " 'odd:9']"
      ]
     },
     "execution_count": 42,
     "metadata": {},
     "output_type": "execute_result"
    }
   ],
   "source": [
    "[f'even:{i}' if i%2==0 else f'odd:{i}' for i in range(1,10)]\n"
   ]
  },
  {
   "cell_type": "code",
   "execution_count": 43,
   "id": "67e7b7d1",
   "metadata": {},
   "outputs": [
    {
     "data": {
      "text/plain": [
       "['C grade:45',\n",
       " 'C grade:55',\n",
       " 'B grade:65',\n",
       " 'B grade:75',\n",
       " 'B grade:85',\n",
       " 'A grade:95']"
      ]
     },
     "execution_count": 43,
     "metadata": {},
     "output_type": "execute_result"
    }
   ],
   "source": [
    "#no elif in list comprehension*\n",
    "#Represent it as else+if\n",
    "list1=[45,55,65,75,85,95]\n",
    "[f'A grade:{i}' if i>85 else f'B grade:{i}' if i>60 else f'C grade:{i}' for i in list1]"
   ]
  },
  {
   "cell_type": "code",
   "execution_count": 25,
   "id": "eff5c441",
   "metadata": {},
   "outputs": [
    {
     "data": {
      "text/plain": [
       "['student passed: 1',\n",
       " 'student passed: 2',\n",
       " 'student passed: 3',\n",
       " 'student passed: 4',\n",
       " 'student passed: 5',\n",
       " 'student passed: 6',\n",
       " 'student passed: 9']"
      ]
     },
     "execution_count": 25,
     "metadata": {},
     "output_type": "execute_result"
    }
   ],
   "source": [
    "marks = [45, 76,89,53,67,90,82,49,33,99]\n",
    "[f'student passed: {marks.index(i)}' for i in marks if i >=50]"
   ]
  },
  {
   "cell_type": "code",
   "execution_count": 35,
   "id": "045f5fe7",
   "metadata": {},
   "outputs": [
    {
     "data": {
      "text/plain": [
       "['Grade F: 45',\n",
       " 'Grade B: 76',\n",
       " 'Grade A: 89',\n",
       " 'Grade C: 53',\n",
       " 'Grade C: 67',\n",
       " 'Grade A: 90',\n",
       " 'Grade B: 82',\n",
       " 'Grade F: 49',\n",
       " 'Grade F: 33',\n",
       " 'Grade A: 99']"
      ]
     },
     "execution_count": 35,
     "metadata": {},
     "output_type": "execute_result"
    }
   ],
   "source": [
    "marks = [45, 76,89,53,67,90,82,49,33,99]\n",
    "[f'Grade A: {i}' if i>=85 else f'Grade B: {i}' if i>=70 else f'Grade C: {i}' if i>=50 else f'Grade F: {i}' for i in marks]"
   ]
  },
  {
   "cell_type": "code",
   "execution_count": 41,
   "id": "51404c43",
   "metadata": {},
   "outputs": [
    {
     "name": "stdout",
     "output_type": "stream",
     "text": [
      "Top 3 scores\n"
     ]
    },
    {
     "data": {
      "text/plain": [
       "['Student index 2: Score 89',\n",
       " 'Student index 5: Score 90',\n",
       " 'Student index 9: Score 99']"
      ]
     },
     "execution_count": 41,
     "metadata": {},
     "output_type": "execute_result"
    }
   ],
   "source": [
    "marks = [45, 76,89,53,67,90,82,49,33,99]\n",
    "print('Top 3 scores')\n",
    "[f'Student index {marks.index(i)}: Score {i}' for i in marks if i>=85]"
   ]
  },
  {
   "cell_type": "code",
   "execution_count": 43,
   "id": "77c3833d",
   "metadata": {},
   "outputs": [
    {
     "name": "stdout",
     "output_type": "stream",
     "text": [
      "99\n",
      "90\n",
      "89\n"
     ]
    }
   ],
   "source": [
    "marks = [45, 76,89,53,67,90,82,49,33,99]\n",
    "max_val=max(marks)\n",
    "for i in range(3):\n",
    "    max_val=max(marks)\n",
    "    print(max_val)\n",
    "    marks.remove(max_val)"
   ]
  },
  {
   "cell_type": "code",
   "execution_count": 39,
   "id": "005f0ec8",
   "metadata": {},
   "outputs": [
    {
     "data": {
      "text/plain": [
       "['Student0:Marks50', 'Student7:Marks54', 'Student8:Marks38']"
      ]
     },
     "execution_count": 39,
     "metadata": {},
     "output_type": "execute_result"
    }
   ],
   "source": [
    "marks = [45, 76,89,53,67,90,82,49,33,99]\n",
    "count=0\n",
    "[f'Student{marks.index(i)}:Marks{i+5}' for i in marks if i<50]"
   ]
  },
  {
   "cell_type": "code",
   "execution_count": 44,
   "id": "5252f188",
   "metadata": {},
   "outputs": [
    {
     "data": {
      "text/plain": [
       "68.3"
      ]
     },
     "execution_count": 44,
     "metadata": {},
     "output_type": "execute_result"
    }
   ],
   "source": [
    "marks = [45, 76,89,53,67,90,82,49,33,99]\n",
    "summ=0\n",
    "[summ:=summ+i for i in marks]\n",
    "summ/len(marks)"
   ]
  },
  {
   "cell_type": "code",
   "execution_count": 46,
   "id": "6327a5e6",
   "metadata": {},
   "outputs": [
    {
     "data": {
      "text/plain": [
       "28.284271247461902"
      ]
     },
     "execution_count": 46,
     "metadata": {},
     "output_type": "execute_result"
    }
   ],
   "source": [
    "#distance between two points\n",
    "import math\n",
    "l1=[10,20]\n",
    "l2=[30,40]\n",
    "#find distance between l2 with all points from l1 which is max distance?\n",
    "#sqrt (x2-x1)**2 - (y2-y1)**2 - called Euclidean distance\n",
    "d1=l2[0]-l1[0] #X2-x1\n",
    "d1_sq=math.pow(d1,2)\n",
    "d2=l2[1]-l1[1] #X2-x1\n",
    "d2_sq=math.pow(d2,2)\n",
    "summ=d1_sq+d2_sq\n",
    "math.sqrt(summ)"
   ]
  },
  {
   "cell_type": "code",
   "execution_count": 47,
   "id": "92ec4d4e",
   "metadata": {},
   "outputs": [
    {
     "data": {
      "text/plain": [
       "28.284271247461902"
      ]
     },
     "execution_count": 47,
     "metadata": {},
     "output_type": "execute_result"
    }
   ],
   "source": [
    "math.sqrt(math.pow(l2[0]-l1[0],2)+math.pow(l2[1]-l1[1],2))"
   ]
  },
  {
   "cell_type": "code",
   "execution_count": 56,
   "id": "c57ee913",
   "metadata": {},
   "outputs": [
    {
     "name": "stdout",
     "output_type": "stream",
     "text": [
      "0\n",
      "100.0\n",
      "1\n",
      "500.0\n"
     ]
    }
   ],
   "source": [
    "import math\n",
    "l1=[10,20]\n",
    "l2=[20,40]\n",
    "summ=0\n",
    "for i in range(len(l2)):\n",
    "    print(i)\n",
    "    d1_sq=l2[i]-l1[i]\n",
    "    summ=summ+math.pow(d1_sq,2)\n",
    "    print(summ)"
   ]
  },
  {
   "cell_type": "code",
   "execution_count": null,
   "id": "086ee4b7",
   "metadata": {},
   "outputs": [],
   "source": []
  }
 ],
 "metadata": {
  "kernelspec": {
   "display_name": "Python 3 (ipykernel)",
   "language": "python",
   "name": "python3"
  },
  "language_info": {
   "codemirror_mode": {
    "name": "ipython",
    "version": 3
   },
   "file_extension": ".py",
   "mimetype": "text/x-python",
   "name": "python",
   "nbconvert_exporter": "python",
   "pygments_lexer": "ipython3",
   "version": "3.11.5"
  }
 },
 "nbformat": 4,
 "nbformat_minor": 5
}
