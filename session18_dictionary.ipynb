{
 "cells": [
  {
   "cell_type": "code",
   "execution_count": 5,
   "id": "093a3fe3",
   "metadata": {},
   "outputs": [
    {
     "data": {
      "text/plain": [
       "['Ramesh age is 20', 'Suresh age is 25', 'Satish age is 30']"
      ]
     },
     "execution_count": 5,
     "metadata": {},
     "output_type": "execute_result"
    }
   ],
   "source": []
  },
  {
   "cell_type": "code",
   "execution_count": 6,
   "id": "40648bfb",
   "metadata": {},
   "outputs": [
    {
     "name": "stdout",
     "output_type": "stream",
     "text": [
      "('Ramesh', 20)\n",
      "('Suresh', 25)\n",
      "('Satish', 30)\n"
     ]
    }
   ],
   "source": [
    "#what is zip. it means combine\n",
    "names=['Ramesh','Suresh','Satish']\n",
    "age=[20,25,30]\n",
    "for i in zip(names,age):\n",
    "    print(i)"
   ]
  },
  {
   "cell_type": "code",
   "execution_count": 7,
   "id": "2f49648a",
   "metadata": {},
   "outputs": [
    {
     "name": "stdout",
     "output_type": "stream",
     "text": [
      "Ramesh 20\n",
      "Suresh 25\n",
      "Satish 30\n"
     ]
    }
   ],
   "source": [
    "for i,j in zip(names,age):\n",
    "    print(i, j)"
   ]
  },
  {
   "cell_type": "markdown",
   "id": "8256ed7e",
   "metadata": {},
   "source": [
    "**Dictionary**\n",
    "- in above example both are together we can pair them\n",
    "- Dictionary is called as key-value pair"
   ]
  },
  {
   "cell_type": "code",
   "execution_count": 9,
   "id": "c435c819",
   "metadata": {},
   "outputs": [],
   "source": [
    "d1={'Ramesh':20, 'Suresh':40}"
   ]
  },
  {
   "cell_type": "code",
   "execution_count": 10,
   "id": "e9f6578f",
   "metadata": {},
   "outputs": [
    {
     "data": {
      "text/plain": [
       "{'Ramesh': 20, 'Suresh': 40}"
      ]
     },
     "execution_count": 10,
     "metadata": {},
     "output_type": "execute_result"
    }
   ],
   "source": [
    "d1"
   ]
  },
  {
   "cell_type": "code",
   "execution_count": 11,
   "id": "8705ebc9",
   "metadata": {},
   "outputs": [],
   "source": [
    "list1=[20,40]\n",
    "d1={'Ramesh':list1, 'Suresh':40}"
   ]
  },
  {
   "cell_type": "code",
   "execution_count": 12,
   "id": "dccc0729",
   "metadata": {},
   "outputs": [
    {
     "data": {
      "text/plain": [
       "{'Ramesh': [20, 40], 'Suresh': 40}"
      ]
     },
     "execution_count": 12,
     "metadata": {},
     "output_type": "execute_result"
    }
   ],
   "source": [
    "d1"
   ]
  },
  {
   "cell_type": "code",
   "execution_count": 13,
   "id": "e562e2bc",
   "metadata": {},
   "outputs": [],
   "source": [
    "list1=(20,40)\n",
    "d1={'Ramesh':list1, 'Suresh':40}"
   ]
  },
  {
   "cell_type": "code",
   "execution_count": 14,
   "id": "a272de6b",
   "metadata": {},
   "outputs": [
    {
     "data": {
      "text/plain": [
       "{'Ramesh': (20, 40), 'Suresh': 40}"
      ]
     },
     "execution_count": 14,
     "metadata": {},
     "output_type": "execute_result"
    }
   ],
   "source": [
    "d1"
   ]
  },
  {
   "cell_type": "code",
   "execution_count": 16,
   "id": "1fd4754a",
   "metadata": {},
   "outputs": [
    {
     "data": {
      "text/plain": [
       "{'Ramesh': 20}"
      ]
     },
     "execution_count": 16,
     "metadata": {},
     "output_type": "execute_result"
    }
   ],
   "source": [
    "d5={'Ramesh':20,'Ramesh':20}\n",
    "d5"
   ]
  },
  {
   "cell_type": "markdown",
   "id": "44e2c83d",
   "metadata": {},
   "source": [
    "*latest value takes if both key are same like database"
   ]
  },
  {
   "cell_type": "markdown",
   "id": "52c1f4ae",
   "metadata": {},
   "source": [
    "- Keys cannot be duplicate but values can be\n",
    "- Dictionaries are immutable. Cannot change the keys"
   ]
  },
  {
   "cell_type": "code",
   "execution_count": 17,
   "id": "86cea669",
   "metadata": {},
   "outputs": [
    {
     "data": {
      "text/plain": [
       "{'Fruites': {'APple': 20}}"
      ]
     },
     "execution_count": 17,
     "metadata": {},
     "output_type": "execute_result"
    }
   ],
   "source": [
    "d14={'Fruites':{'APple':20}}\n",
    "d14"
   ]
  },
  {
   "cell_type": "code",
   "execution_count": 18,
   "id": "f01e23be",
   "metadata": {},
   "outputs": [
    {
     "data": {
      "text/plain": [
       "{'Apple': 20, 'apple': 30}"
      ]
     },
     "execution_count": 18,
     "metadata": {},
     "output_type": "execute_result"
    }
   ],
   "source": [
    "dict2={'Apple':20,'apple':30}\n",
    "dict2"
   ]
  },
  {
   "cell_type": "code",
   "execution_count": 19,
   "id": "b3d084b1",
   "metadata": {},
   "outputs": [
    {
     "data": {
      "text/plain": [
       "{20: 'Apple', 30: 'Banana', 50: 'Cherry'}"
      ]
     },
     "execution_count": 19,
     "metadata": {},
     "output_type": "execute_result"
    }
   ],
   "source": [
    "dict3={20:'Apple',30:'Banana',50:'Cherry'}\n",
    "dict3"
   ]
  },
  {
   "cell_type": "code",
   "execution_count": 44,
   "id": "8af1d1d8",
   "metadata": {},
   "outputs": [
    {
     "data": {
      "text/plain": [
       "['Cherry', 'Banana', 'Apple']"
      ]
     },
     "execution_count": 44,
     "metadata": {},
     "output_type": "execute_result"
    }
   ],
   "source": [
    "dict1={'Apple':20,'Banana':30,'Cherry':10}\n",
    "dict2={'Apple':20,'apple':30}\n",
    "dict3={60:'Apple',30:'Banana',50:'Cherry'}\n",
    "dict4={}\n",
    "max(dict1)\n",
    "list(reversed(dict1))"
   ]
  },
  {
   "cell_type": "code",
   "execution_count": 47,
   "id": "f216a6fa",
   "metadata": {},
   "outputs": [
    {
     "ename": "SyntaxError",
     "evalue": "illegal target for annotation (3536331997.py, line 2)",
     "output_type": "error",
     "traceback": [
      "\u001b[1;36m  Cell \u001b[1;32mIn[47], line 2\u001b[1;36m\u001b[0m\n\u001b[1;33m    'Apple':20 in dict1\u001b[0m\n\u001b[1;37m    ^\u001b[0m\n\u001b[1;31mSyntaxError\u001b[0m\u001b[1;31m:\u001b[0m illegal target for annotation\n"
     ]
    }
   ],
   "source": [
    "dict1={'Apple':20,'Banana':30,'Cherry':10}\n",
    "'Apple':20 in dict1"
   ]
  },
  {
   "cell_type": "code",
   "execution_count": 51,
   "id": "439ef3c8",
   "metadata": {},
   "outputs": [
    {
     "name": "stdout",
     "output_type": "stream",
     "text": [
      "0\n",
      "1\n",
      "2\n"
     ]
    }
   ],
   "source": [
    "for i in range(0,len(dict1)):\n",
    "    print(i)"
   ]
  },
  {
   "cell_type": "code",
   "execution_count": 59,
   "id": "c925d39a",
   "metadata": {
    "scrolled": true
   },
   "outputs": [
    {
     "name": "stdout",
     "output_type": "stream",
     "text": [
      "Apple:20\n",
      "Banana:30\n",
      "Cherry:10\n"
     ]
    }
   ],
   "source": [
    "for i in dict1:\n",
    "    print(f'{i}:{dict1[i]}')"
   ]
  },
  {
   "cell_type": "code",
   "execution_count": 60,
   "id": "e0ddf585",
   "metadata": {},
   "outputs": [
    {
     "name": "stdout",
     "output_type": "stream",
     "text": [
      "Apple:20\n",
      "Banana:30\n",
      "Cherry:10\n"
     ]
    }
   ],
   "source": [
    "dict1={'Apple':20,'Banana':30,'Cherry':10}\n",
    "for key in dict1:\n",
    "    value=dict1[key]\n",
    "    print(f'{key}:{value}')"
   ]
  },
  {
   "cell_type": "code",
   "execution_count": 61,
   "id": "2f40d918",
   "metadata": {},
   "outputs": [
    {
     "name": "stdout",
     "output_type": "stream",
     "text": [
      "Cherry\n"
     ]
    }
   ],
   "source": [
    "d={'Fruites':['Apple','Banana','Cherry']}\n",
    "#get chrry\n",
    "for key in d:\n",
    "    val=d[key][2]\n",
    "    print(val)"
   ]
  },
  {
   "cell_type": "code",
   "execution_count": 79,
   "id": "bf021e10",
   "metadata": {},
   "outputs": [],
   "source": [
    "d={'Fruites':{'Apple':['sweet','sour','green']}}\n",
    "for key in d:\n",
    "    val=d[key]\n"
   ]
  },
  {
   "cell_type": "code",
   "execution_count": 75,
   "id": "8badb8d5",
   "metadata": {},
   "outputs": [
    {
     "data": {
      "text/plain": [
       "50"
      ]
     },
     "execution_count": 75,
     "metadata": {},
     "output_type": "execute_result"
    }
   ],
   "source": [
    "d={'Fruits':[{'cost':[50]}]}\n",
    "d['Fruits'][0]['cost'][0]"
   ]
  },
  {
   "cell_type": "code",
   "execution_count": 81,
   "id": "255b936c",
   "metadata": {},
   "outputs": [
    {
     "data": {
      "text/plain": [
       "{'Fruits': ['Apple'], 'COst': [{'1kg': [20, 30, 40], '2kg': None}]}"
      ]
     },
     "execution_count": 81,
     "metadata": {},
     "output_type": "execute_result"
    }
   ],
   "source": [
    "d={'Fruits':['Apple'],'COst':[{'1kg':[20,30,40],'2kg':None}]}\n",
    "d"
   ]
  },
  {
   "cell_type": "code",
   "execution_count": 93,
   "id": "6971ac83",
   "metadata": {},
   "outputs": [
    {
     "data": {
      "text/plain": [
       "(40, None)"
      ]
     },
     "execution_count": 93,
     "metadata": {},
     "output_type": "execute_result"
    }
   ],
   "source": [
    "d['COst'][0]['1kg'][2],d['COst'][0]['2kg']"
   ]
  },
  {
   "cell_type": "code",
   "execution_count": 95,
   "id": "2e938881",
   "metadata": {},
   "outputs": [
    {
     "data": {
      "text/plain": [
       "{'Fruits': {'Orange': {'Nagpur': {'MH': {'king': {'Shivaji': {'Shambaji'}}}}}}}"
      ]
     },
     "execution_count": 95,
     "metadata": {},
     "output_type": "execute_result"
    }
   ],
   "source": [
    "d={'Fruits':{'Orange':{'Nagpur':{'MH':{'king':{'Shivaji':{'Shambaji'}}}}}}}\n",
    "d"
   ]
  },
  {
   "cell_type": "code",
   "execution_count": 101,
   "id": "bcfd8088",
   "metadata": {},
   "outputs": [
    {
     "data": {
      "text/plain": [
       "{'Shambaji'}"
      ]
     },
     "execution_count": 101,
     "metadata": {},
     "output_type": "execute_result"
    }
   ],
   "source": [
    "d['Fruits']['Orange']['Nagpur']['MH']['king']['Shivaji']"
   ]
  },
  {
   "cell_type": "markdown",
   "id": "a2b8a22b",
   "metadata": {},
   "source": [
    "**How to create a empy dictionary**"
   ]
  },
  {
   "cell_type": "code",
   "execution_count": 102,
   "id": "ad3162df",
   "metadata": {},
   "outputs": [
    {
     "data": {
      "text/plain": [
       "[10, 20]"
      ]
     },
     "execution_count": 102,
     "metadata": {},
     "output_type": "execute_result"
    }
   ],
   "source": [
    "#list\n",
    "l=[]\n",
    "l.append(10)\n",
    "l.append(20)\n",
    "l"
   ]
  },
  {
   "cell_type": "code",
   "execution_count": 105,
   "id": "c4ca697d",
   "metadata": {},
   "outputs": [
    {
     "data": {
      "text/plain": [
       "'py'"
      ]
     },
     "execution_count": 105,
     "metadata": {},
     "output_type": "execute_result"
    }
   ],
   "source": [
    "#string\n",
    "str1=\"\"\n",
    "str1=str1+'p'\n",
    "str1=str1+'y'\n",
    "str1"
   ]
  },
  {
   "cell_type": "code",
   "execution_count": 107,
   "id": "bf0e74b0",
   "metadata": {},
   "outputs": [
    {
     "data": {
      "text/plain": [
       "{'Ramesh': 10, 'SUresh': 20, 'Satish': 30}"
      ]
     },
     "execution_count": 107,
     "metadata": {},
     "output_type": "execute_result"
    }
   ],
   "source": [
    "#dictionary\n",
    "d={}\n",
    "d['Ramesh']=10\n",
    "d['SUresh']=20\n",
    "d['Satish']=30\n",
    "d"
   ]
  },
  {
   "cell_type": "code",
   "execution_count": 112,
   "id": "80146e9a",
   "metadata": {},
   "outputs": [
    {
     "data": {
      "text/plain": [
       "{'Ramesh': 10, 'Suresh': 20, 'Satish': 30}"
      ]
     },
     "execution_count": 112,
     "metadata": {},
     "output_type": "execute_result"
    }
   ],
   "source": [
    "names=['Ramesh','Suresh','Satish']\n",
    "age=[10,20,30]\n",
    "dict1={}\n",
    "for i,j in zip(names,age):\n",
    "    dict1[i]=j\n",
    "dict1"
   ]
  },
  {
   "cell_type": "markdown",
   "id": "88eefee6",
   "metadata": {},
   "source": [
    "**Dictionary comprehension**"
   ]
  },
  {
   "cell_type": "code",
   "execution_count": 113,
   "id": "19f74750",
   "metadata": {},
   "outputs": [
    {
     "data": {
      "text/plain": [
       "{'Ramesh': 10, 'Suresh': 20, 'Satish': 30}"
      ]
     },
     "execution_count": 113,
     "metadata": {},
     "output_type": "execute_result"
    }
   ],
   "source": [
    "{i:j for i,j in zip(names,age)}"
   ]
  },
  {
   "cell_type": "markdown",
   "id": "e3d59d63",
   "metadata": {},
   "source": [
    "**Dictionary**\n",
    "-Keys\n",
    "-values\n",
    "-clear\n",
    "-copy\n",
    "-items"
   ]
  },
  {
   "cell_type": "code",
   "execution_count": 125,
   "id": "c8d874a2",
   "metadata": {},
   "outputs": [
    {
     "data": {
      "text/plain": [
       "'Shambaji'"
      ]
     },
     "execution_count": 125,
     "metadata": {},
     "output_type": "execute_result"
    }
   ],
   "source": [
    "d={'Fruits':{'Orange':{'Nagpur':{'MH':{'king':{'Shivaji':{'Shambaji'}}}}}}}\n",
    "s1=d['Fruits']['Orange']['Nagpur']['MH']['king']['Shivaji']\n",
    "s2=list(s1)[0]\n",
    "s2"
   ]
  },
  {
   "cell_type": "code",
   "execution_count": 122,
   "id": "365e30dd",
   "metadata": {
    "scrolled": true
   },
   "outputs": [
    {
     "data": {
      "text/plain": [
       "dict_keys(['Ramesh', 'Suresh', 'Satish'])"
      ]
     },
     "execution_count": 122,
     "metadata": {},
     "output_type": "execute_result"
    }
   ],
   "source": [
    "d={'Ramesh':20,'Suresh':25,'Satish':30}\n",
    "keys=d.keys()\n",
    "keys"
   ]
  },
  {
   "cell_type": "markdown",
   "id": "c3f9a9f6",
   "metadata": {},
   "source": [
    "**convert dictionary to list **\n",
    "- In order to convert to list\n",
    "- first seperate keys and values\n",
    "- then apply list type casting"
   ]
  },
  {
   "cell_type": "code",
   "execution_count": 126,
   "id": "08bf2b97",
   "metadata": {},
   "outputs": [
    {
     "data": {
      "text/plain": [
       "['Ramesh', 'Suresh', 'Satish']"
      ]
     },
     "execution_count": 126,
     "metadata": {},
     "output_type": "execute_result"
    }
   ],
   "source": [
    "d={'Ramesh':20,'Suresh':25,'Satish':30}\n",
    "keys=d.keys()\n",
    "list(keys)"
   ]
  },
  {
   "cell_type": "markdown",
   "id": "019ab69b",
   "metadata": {},
   "source": [
    "list === string using join\n",
    "string === list using split\n",
    "list === dict using zip\n",
    "dict === list using type casting list"
   ]
  },
  {
   "cell_type": "code",
   "execution_count": 127,
   "id": "36dda28e",
   "metadata": {},
   "outputs": [
    {
     "data": {
      "text/plain": [
       "[20, 25, 30]"
      ]
     },
     "execution_count": 127,
     "metadata": {},
     "output_type": "execute_result"
    }
   ],
   "source": [
    "values=d.values()\n",
    "list(values)"
   ]
  },
  {
   "cell_type": "code",
   "execution_count": 128,
   "id": "98e420e1",
   "metadata": {},
   "outputs": [
    {
     "data": {
      "text/plain": [
       "dict_items([('Ramesh', 20), ('Suresh', 25), ('Satish', 30)])"
      ]
     },
     "execution_count": 128,
     "metadata": {},
     "output_type": "execute_result"
    }
   ],
   "source": [
    "d.items()"
   ]
  },
  {
   "cell_type": "code",
   "execution_count": 129,
   "id": "b6f14058",
   "metadata": {},
   "outputs": [
    {
     "data": {
      "text/plain": [
       "[('Ramesh', 20), ('Suresh', 25), ('Satish', 30)]"
      ]
     },
     "execution_count": 129,
     "metadata": {},
     "output_type": "execute_result"
    }
   ],
   "source": [
    "list(d.items())"
   ]
  },
  {
   "cell_type": "code",
   "execution_count": 175,
   "id": "5d50e09c",
   "metadata": {},
   "outputs": [
    {
     "data": {
      "text/plain": [
       "{'fname': ['virat', 'rohit', 'ms'],\n",
       " 'sname': ['kohli', 'sharma', 'dhoni'],\n",
       " 'cname': ['kohli', 'sharma', 'dhoni']}"
      ]
     },
     "execution_count": 175,
     "metadata": {},
     "output_type": "execute_result"
    }
   ],
   "source": [
    "input1='virat.kohli@rcb.com;rohit.sharma@mi.com;ms.dhoni@csk.com'\n",
    "#output={'Firstname:['Virat','rohit','dhoni']'}\n",
    "list1=input1.split(';')\n",
    "fname=[]\n",
    "sname=[]\n",
    "cname=[]\n",
    "d={}\n",
    "for i in list1:\n",
    "    email=i.split('@')\n",
    "    name = email[0].split('.')\n",
    "    ename=email[1].split('.')\n",
    "    fname.append(name[0])\n",
    "    sname.append(name[1])\n",
    "    cname.append(ename[0])\n",
    "d['fname']=fname\n",
    "d['sname']=sname\n",
    "d['cname']=sname\n",
    "d"
   ]
  },
  {
   "cell_type": "code",
   "execution_count": 177,
   "id": "b3c9d3cc",
   "metadata": {},
   "outputs": [],
   "source": [
    "for i in list1:\n",
    "    first_dot=i.index('.')\n",
    "    second_dot=i.index('.',first_dot+1)"
   ]
  },
  {
   "cell_type": "code",
   "execution_count": 179,
   "id": "d641821e",
   "metadata": {},
   "outputs": [
    {
     "data": {
      "text/plain": [
       "{'fname': ['virat', 'rohit', 'ms'],\n",
       " 'sname': ['kohli', 'sharma', 'dhoni'],\n",
       " 'cname': ['kohli', 'sharma', 'dhoni']}"
      ]
     },
     "execution_count": 179,
     "metadata": {},
     "output_type": "execute_result"
    }
   ],
   "source": [
    "d"
   ]
  },
  {
   "cell_type": "code",
   "execution_count": 187,
   "id": "6afcc46b",
   "metadata": {},
   "outputs": [
    {
     "data": {
      "text/plain": [
       "['virat', 'rohit', 'ms']"
      ]
     },
     "execution_count": 187,
     "metadata": {},
     "output_type": "execute_result"
    }
   ],
   "source": [
    "d.pop('fname')"
   ]
  },
  {
   "cell_type": "code",
   "execution_count": 192,
   "id": "9adb0533",
   "metadata": {},
   "outputs": [
    {
     "data": {
      "text/plain": [
       "('sname', ['kohli', 'sharma', 'dhoni'])"
      ]
     },
     "execution_count": 192,
     "metadata": {},
     "output_type": "execute_result"
    }
   ],
   "source": [
    "d.popitem()"
   ]
  },
  {
   "cell_type": "code",
   "execution_count": 193,
   "id": "41b3da0e",
   "metadata": {},
   "outputs": [
    {
     "data": {
      "text/plain": [
       "{}"
      ]
     },
     "execution_count": 193,
     "metadata": {},
     "output_type": "execute_result"
    }
   ],
   "source": [
    "d"
   ]
  },
  {
   "cell_type": "code",
   "execution_count": 194,
   "id": "5d3a49a8",
   "metadata": {},
   "outputs": [
    {
     "data": {
      "text/plain": [
       "20"
      ]
     },
     "execution_count": 194,
     "metadata": {},
     "output_type": "execute_result"
    }
   ],
   "source": [
    "d={'Ramesh':20,'Suresh':25,'Satish':30}\n",
    "d.get('Ramesh')"
   ]
  },
  {
   "cell_type": "code",
   "execution_count": 195,
   "id": "068464f3",
   "metadata": {},
   "outputs": [
    {
     "data": {
      "text/plain": [
       "20"
      ]
     },
     "execution_count": 195,
     "metadata": {},
     "output_type": "execute_result"
    }
   ],
   "source": [
    "d['Ramesh']"
   ]
  },
  {
   "cell_type": "code",
   "execution_count": 199,
   "id": "57db66a4",
   "metadata": {},
   "outputs": [
    {
     "data": {
      "text/plain": [
       "{'Ramesh': 20, 'Suresh': 25, 'Satish': 30, 'Rahul': 40}"
      ]
     },
     "execution_count": 199,
     "metadata": {},
     "output_type": "execute_result"
    }
   ],
   "source": [
    "d1={'Ramesh':20,'Suresh':25,'Satish':30}\n",
    "d2={'Rahul':40}\n",
    "d1.update(d2)\n",
    "d1"
   ]
  },
  {
   "cell_type": "code",
   "execution_count": 200,
   "id": "68d59b3e",
   "metadata": {},
   "outputs": [
    {
     "data": {
      "text/plain": [
       "['Ramesh', 'Suresh', 20, 40]"
      ]
     },
     "execution_count": 200,
     "metadata": {},
     "output_type": "execute_result"
    }
   ],
   "source": [
    "list1=['Ramesh','Suresh']\n",
    "list2=[20,40]\n",
    "list1.extend(list2)\n",
    "list1"
   ]
  },
  {
   "cell_type": "code",
   "execution_count": 201,
   "id": "53ac1f72",
   "metadata": {},
   "outputs": [],
   "source": [
    "d1={'Ramesh':20,'Suresh':25,'Satish':30}"
   ]
  },
  {
   "cell_type": "code",
   "execution_count": 207,
   "id": "96bbc04d",
   "metadata": {},
   "outputs": [
    {
     "data": {
      "text/plain": [
       "{'Ramesh': 20, 'Suresh': 25, 'Satish': 30, 'Manish': None}"
      ]
     },
     "execution_count": 207,
     "metadata": {},
     "output_type": "execute_result"
    }
   ],
   "source": [
    "\n",
    "d1.setdefault('Manish',30)\n",
    "d1"
   ]
  },
  {
   "cell_type": "code",
   "execution_count": 208,
   "id": "3db9589e",
   "metadata": {},
   "outputs": [
    {
     "data": {
      "text/plain": [
       "{'Ramesh': None, 'Suresh': None, 'Satish': None}"
      ]
     },
     "execution_count": 208,
     "metadata": {},
     "output_type": "execute_result"
    }
   ],
   "source": [
    "d1={'Ramesh':20,'Suresh':20,'Satish':20}\n",
    "d1.fromkeys(d1)"
   ]
  },
  {
   "cell_type": "code",
   "execution_count": 211,
   "id": "73c045bd",
   "metadata": {},
   "outputs": [
    {
     "data": {
      "text/plain": [
       "{'p': None, 'y': None, 't': None, 'h': None, 'o': None, 'n': None}"
      ]
     },
     "execution_count": 211,
     "metadata": {},
     "output_type": "execute_result"
    }
   ],
   "source": [
    "d={}\n",
    "d.fromkeys('python')"
   ]
  },
  {
   "cell_type": "code",
   "execution_count": 210,
   "id": "85b9298a",
   "metadata": {},
   "outputs": [
    {
     "data": {
      "text/plain": [
       "{'Ramesh': 20, 'Suresh': 20, 'Satish': 20}"
      ]
     },
     "execution_count": 210,
     "metadata": {},
     "output_type": "execute_result"
    }
   ],
   "source": [
    "d1"
   ]
  },
  {
   "cell_type": "code",
   "execution_count": null,
   "id": "bf1b1129",
   "metadata": {},
   "outputs": [],
   "source": []
  }
 ],
 "metadata": {
  "kernelspec": {
   "display_name": "Python 3 (ipykernel)",
   "language": "python",
   "name": "python3"
  },
  "language_info": {
   "codemirror_mode": {
    "name": "ipython",
    "version": 3
   },
   "file_extension": ".py",
   "mimetype": "text/x-python",
   "name": "python",
   "nbconvert_exporter": "python",
   "pygments_lexer": "ipython3",
   "version": "3.11.5"
  }
 },
 "nbformat": 4,
 "nbformat_minor": 5
}
