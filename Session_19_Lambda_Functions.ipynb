{
 "cells": [
  {
   "cell_type": "markdown",
   "id": "dc30f4b6",
   "metadata": {},
   "source": [
    "**Recap List comprehension 4 methods**\n",
    "[output for loop]\n",
    "[output for loop if condition]\n",
    "[output if cond else else output for loop]\n",
    "[output if cond else elif output else elsout for loop]"
   ]
  },
  {
   "cell_type": "markdown",
   "id": "dca7c50e",
   "metadata": {},
   "source": [
    "** Lambda functions **\n",
    "- Lambda function represents functions in single line \n",
    "- Similar analogy to list comprehension \n",
    "- to reduce the time complexity will go for lambda func"
   ]
  },
  {
   "cell_type": "markdown",
   "id": "355b5efc",
   "metadata": {},
   "source": [
    "$pattern-1$ function with one argument"
   ]
  },
  {
   "cell_type": "code",
   "execution_count": 1,
   "id": "afcebfe3",
   "metadata": {},
   "outputs": [
    {
     "name": "stdout",
     "output_type": "stream",
     "text": [
      "100\n"
     ]
    }
   ],
   "source": [
    "def mul(a):\n",
    "    return(a*a)\n",
    "print(mul(10))"
   ]
  },
  {
   "cell_type": "code",
   "execution_count": 2,
   "id": "159b9405",
   "metadata": {},
   "outputs": [],
   "source": [
    "#syntax\n",
    "# func name = lambda <argument>:retrun output\n",
    "mul= lambda a: a*a"
   ]
  },
  {
   "cell_type": "code",
   "execution_count": 4,
   "id": "16c715c8",
   "metadata": {},
   "outputs": [
    {
     "data": {
      "text/plain": [
       "100"
      ]
     },
     "execution_count": 4,
     "metadata": {},
     "output_type": "execute_result"
    }
   ],
   "source": [
    "mul(10)"
   ]
  },
  {
   "cell_type": "code",
   "execution_count": 5,
   "id": "d7068788",
   "metadata": {},
   "outputs": [
    {
     "data": {
      "text/plain": [
       "30"
      ]
     },
     "execution_count": 5,
     "metadata": {},
     "output_type": "execute_result"
    }
   ],
   "source": [
    "add=lambda a,b:a+b\n",
    "add(10,20)"
   ]
  },
  {
   "cell_type": "code",
   "execution_count": 6,
   "id": "f50cd042",
   "metadata": {},
   "outputs": [
    {
     "data": {
      "text/plain": [
       "1000000"
      ]
     },
     "execution_count": 6,
     "metadata": {},
     "output_type": "execute_result"
    }
   ],
   "source": [
    "cube=lambda a:a*a*a\n",
    "cube(100)"
   ]
  },
  {
   "cell_type": "markdown",
   "id": "1f940657",
   "metadata": {},
   "source": [
    "$pattern-2$: ** Function with two arguments **"
   ]
  },
  {
   "cell_type": "code",
   "execution_count": 7,
   "id": "038dc760",
   "metadata": {},
   "outputs": [
    {
     "data": {
      "text/plain": [
       "30"
      ]
     },
     "execution_count": 7,
     "metadata": {},
     "output_type": "execute_result"
    }
   ],
   "source": [
    "add=lambda a,b:a+b\n",
    "add(10,20)"
   ]
  },
  {
   "cell_type": "code",
   "execution_count": 11,
   "id": "6775aa65",
   "metadata": {},
   "outputs": [
    {
     "data": {
      "text/plain": [
       "16.67"
      ]
     },
     "execution_count": 11,
     "metadata": {},
     "output_type": "execute_result"
    }
   ],
   "source": [
    "avg=lambda a,b,c=20:round((a+b+c)/3,2)\n",
    "avg(10,20)"
   ]
  },
  {
   "cell_type": "markdown",
   "id": "324c66a6",
   "metadata": {},
   "source": [
    "𝑝𝑎𝑡𝑡𝑒𝑟𝑛−5 : ** Lists cases **"
   ]
  },
  {
   "cell_type": "code",
   "execution_count": 17,
   "id": "bd1b1a5d",
   "metadata": {},
   "outputs": [],
   "source": [
    "input=['hyd','benguluru','mumbai','pune']\n",
    "output=[]\n",
    "for i in input:\n",
    "    output.append(i.capitalize())"
   ]
  },
  {
   "cell_type": "code",
   "execution_count": 18,
   "id": "59f4e0e0",
   "metadata": {},
   "outputs": [],
   "source": [
    "output=[i.capitalize() for i in input]"
   ]
  },
  {
   "cell_type": "code",
   "execution_count": 19,
   "id": "76981973",
   "metadata": {},
   "outputs": [
    {
     "data": {
      "text/plain": [
       "['Hyd', 'Benguluru', 'Mumbai', 'Pune']"
      ]
     },
     "execution_count": 19,
     "metadata": {},
     "output_type": "execute_result"
    }
   ],
   "source": [
    "#step1 lambda <variable>: <output>\n",
    "#step2 lambda <variable>: <output>, iterator i.e input\n",
    "#step3 map(lambda <variable>: <output>, iterator)\n",
    "#step4 list(map(lambda <variable>: <output>, iterator)\n",
    "input=['hyd','benguluru','mumbai','pune']\n",
    "lambda i: i.capitalize()\n",
    "lambda i: i.capitalize(),input\n",
    "map(lambda i: i.capitalize(),input)\n",
    "list(map(lambda i: i.capitalize(),input))\n"
   ]
  },
  {
   "cell_type": "code",
   "execution_count": 20,
   "id": "bf892555",
   "metadata": {},
   "outputs": [
    {
     "data": {
      "text/plain": [
       "['HYD', 'BENGULURU', 'MUMBAI', 'PUNE']"
      ]
     },
     "execution_count": 20,
     "metadata": {},
     "output_type": "execute_result"
    }
   ],
   "source": [
    "list(map(lambda i: i.upper(),input))"
   ]
  },
  {
   "cell_type": "code",
   "execution_count": 21,
   "id": "d4c4a99a",
   "metadata": {},
   "outputs": [
    {
     "data": {
      "text/plain": [
       "[0, 1, 2, 3]"
      ]
     },
     "execution_count": 21,
     "metadata": {},
     "output_type": "execute_result"
    }
   ],
   "source": [
    "list(map(lambda i: input.index(i),input))"
   ]
  },
  {
   "cell_type": "code",
   "execution_count": 28,
   "id": "9f775b24",
   "metadata": {},
   "outputs": [
    {
     "data": {
      "text/plain": [
       "['Hello', 'How', 'Are', 'You']"
      ]
     },
     "execution_count": 28,
     "metadata": {},
     "output_type": "execute_result"
    }
   ],
   "source": [
    "input1=\"hello how are you\"\n",
    "list1=input1.split(' ')\n",
    "list(map(lambda i:i.capitalize(),list1))"
   ]
  },
  {
   "cell_type": "code",
   "execution_count": 37,
   "id": "5bcb0b93",
   "metadata": {},
   "outputs": [
    {
     "data": {
      "text/plain": [
       "[False, True, False, True]"
      ]
     },
     "execution_count": 37,
     "metadata": {},
     "output_type": "execute_result"
    }
   ],
   "source": [
    "# lambda arg: condition, iterator\n",
    "input1=['hyd','bengu#luru','mumbai','p#une']\n",
    "list(map(lambda i:'#' in i,input1))"
   ]
  },
  {
   "cell_type": "markdown",
   "id": "51b41688",
   "metadata": {},
   "source": [
    "**FIlter**\n",
    "- Filter is applied to reterive True outut"
   ]
  },
  {
   "cell_type": "code",
   "execution_count": 38,
   "id": "604a3de4",
   "metadata": {},
   "outputs": [
    {
     "data": {
      "text/plain": [
       "['bengu#luru', 'p#une']"
      ]
     },
     "execution_count": 38,
     "metadata": {},
     "output_type": "execute_result"
    }
   ],
   "source": [
    "input1=['hyd','bengu#luru','mumbai','p#une']\n",
    "list(filter(lambda i:'#' in i,input1))"
   ]
  },
  {
   "cell_type": "code",
   "execution_count": 39,
   "id": "76106e4b",
   "metadata": {},
   "outputs": [
    {
     "data": {
      "text/plain": [
       "['hyd', 'mumbai']"
      ]
     },
     "execution_count": 39,
     "metadata": {},
     "output_type": "execute_result"
    }
   ],
   "source": [
    "input1=['hyd','bengu#luru','mumbai','p#une']\n",
    "list(filter(lambda i:'#' not in i,input1))"
   ]
  },
  {
   "cell_type": "markdown",
   "id": "951f513a",
   "metadata": {},
   "source": [
    "**Redue**\n",
    "- reduce helpful to perform math operations using lambda fuc\n",
    "- it is a method under package functools"
   ]
  },
  {
   "cell_type": "code",
   "execution_count": 47,
   "id": "7242153a",
   "metadata": {},
   "outputs": [
    {
     "data": {
      "text/plain": [
       "10"
      ]
     },
     "execution_count": 47,
     "metadata": {},
     "output_type": "execute_result"
    }
   ],
   "source": [
    "import functools as ft\n",
    "list1=[1,2,3,4]\n",
    "ft.reduce(lambda summ,i:summ+i, list1)"
   ]
  },
  {
   "cell_type": "code",
   "execution_count": null,
   "id": "6010239e",
   "metadata": {},
   "outputs": [],
   "source": [
    "from functools import reduce\n",
    "lambda summ,i:summ+i\n",
    "lambda summ,i:summ+i,list1,200"
   ]
  }
 ],
 "metadata": {
  "kernelspec": {
   "display_name": "Python 3 (ipykernel)",
   "language": "python",
   "name": "python3"
  },
  "language_info": {
   "codemirror_mode": {
    "name": "ipython",
    "version": 3
   },
   "file_extension": ".py",
   "mimetype": "text/x-python",
   "name": "python",
   "nbconvert_exporter": "python",
   "pygments_lexer": "ipython3",
   "version": "3.11.5"
  }
 },
 "nbformat": 4,
 "nbformat_minor": 5
}
