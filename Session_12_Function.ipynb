{
 "cells": [
  {
   "cell_type": "markdown",
   "id": "f1b0ce09",
   "metadata": {},
   "source": [
    "##Function\n",
    "- operation and task\n",
    "- reduce redundency\n",
    "- reuse of the code block"
   ]
  },
  {
   "cell_type": "code",
   "execution_count": 1,
   "id": "c792871c",
   "metadata": {},
   "outputs": [
    {
     "name": "stdout",
     "output_type": "stream",
     "text": [
      "enter income 40\n",
      "enter tax 6\n",
      "2.4\n"
     ]
    }
   ],
   "source": [
    "income = eval(input('enter income '))\n",
    "tax = eval(input('enter tax '))\n",
    "tax_pay = income * tax/100\n",
    "print(tax_pay)"
   ]
  },
  {
   "cell_type": "markdown",
   "id": "b9c8e9ca",
   "metadata": {},
   "source": [
    "##will make this four lines a single call\n",
    "- i.e Function\n",
    "**Functions withour arguments**"
   ]
  },
  {
   "cell_type": "code",
   "execution_count": 5,
   "id": "efc07b6a",
   "metadata": {},
   "outputs": [
    {
     "name": "stdout",
     "output_type": "stream",
     "text": [
      "enter n1 10\n",
      "enter n2 20\n",
      "Add of 10 and 20 is 30\n"
     ]
    }
   ],
   "source": [
    "n1=eval(input('enter n1 '))\n",
    "n2=eval(input('enter n2 '))\n",
    "add=n1+n2\n",
    "print(f'Add of {n1} and {n2} is {add}')"
   ]
  },
  {
   "cell_type": "code",
   "execution_count": 6,
   "id": "927df8ef",
   "metadata": {},
   "outputs": [],
   "source": [
    "def addition():\n",
    "    n1=eval(input('enter n1 '))\n",
    "    n2=eval(input('enter n2 '))\n",
    "    add=n1+n2\n",
    "    print(f'Add of {n1} and {n2} is {add}')"
   ]
  },
  {
   "cell_type": "code",
   "execution_count": 8,
   "id": "b7fd878e",
   "metadata": {},
   "outputs": [
    {
     "name": "stdout",
     "output_type": "stream",
     "text": [
      "enter n1 10\n",
      "enter n2 20\n",
      "Add of 10 and 20 is 30\n"
     ]
    }
   ],
   "source": [
    "## Call function\n",
    "addition()\n"
   ]
  },
  {
   "cell_type": "code",
   "execution_count": 9,
   "id": "0afd4eb1",
   "metadata": {},
   "outputs": [
    {
     "name": "stdout",
     "output_type": "stream",
     "text": [
      "Enter n110\n",
      "Enter n220\n",
      "{20.0}\n"
     ]
    }
   ],
   "source": [
    "def avg():\n",
    "    n1=eval(input(\"Enter n1\"))\n",
    "    n2=eval(input(\"Enter n2\"))\n",
    "    avg = n1+n2/2\n",
    "    print(f'{avg}')\n",
    "avg()\n"
   ]
  },
  {
   "cell_type": "code",
   "execution_count": 2,
   "id": "3ab06153",
   "metadata": {},
   "outputs": [
    {
     "data": {
      "text/plain": [
       "7"
      ]
     },
     "execution_count": 2,
     "metadata": {},
     "output_type": "execute_result"
    }
   ],
   "source": [
    "from random import randint\n",
    "randint(1, 10)"
   ]
  },
  {
   "cell_type": "markdown",
   "id": "9987692d",
   "metadata": {},
   "source": [
    "- how many variables are there ina ddtion function"
   ]
  },
  {
   "cell_type": "markdown",
   "id": "417faca0",
   "metadata": {},
   "source": [
    "def addition():\n",
    "    n1=eval(input('enter n1 '))\n",
    "    n2=eval(input('enter n2 '))\n",
    "    add=n1+n2\n",
    "    print(f'Add of {n1} and {n2} is {add}')"
   ]
  },
  {
   "cell_type": "markdown",
   "id": "67332a96",
   "metadata": {},
   "source": [
    "n1, n2 and add"
   ]
  },
  {
   "cell_type": "code",
   "execution_count": 4,
   "id": "cacedf05",
   "metadata": {},
   "outputs": [
    {
     "name": "stdout",
     "output_type": "stream",
     "text": [
      "Add of 100 and 200 is 300\n"
     ]
    }
   ],
   "source": [
    "def addition(n1,n2):\n",
    "    add=n1+n2\n",
    "    print(f'Add of {n1} and {n2} is {add}')\n",
    "addition(100,200)"
   ]
  },
  {
   "cell_type": "code",
   "execution_count": 6,
   "id": "8ee9e53c",
   "metadata": {},
   "outputs": [],
   "source": [
    "def addition():\n",
    "    n1=eval(input('enter n1 '))\n",
    "    n2=eval(input('enter n2 '))\n",
    "    add=n1+n2\n",
    "    print(f'Add of {n1} and {n2} is {add}')\n",
    "def addition1(n1,n2):\n",
    "    add=n1+n2\n",
    "    print(f'Add of {n1} and {n2} is {add}')\n",
    "def additon2(n1):\n",
    "    n2=eval(input('enter n2 '))\n",
    "    add=n1+n2\n",
    "    print(f'Add of {n1} and {n2} is {add}')"
   ]
  },
  {
   "cell_type": "code",
   "execution_count": 7,
   "id": "4e1ea12c",
   "metadata": {},
   "outputs": [
    {
     "name": "stdout",
     "output_type": "stream",
     "text": [
      "enter n1 1\n",
      "enter n2 2\n",
      "Add of 1 and 2 is 3\n"
     ]
    }
   ],
   "source": [
    "addition()"
   ]
  },
  {
   "cell_type": "code",
   "execution_count": 10,
   "id": "acd1abb1",
   "metadata": {},
   "outputs": [],
   "source": [
    "def additon2(n1):\n",
    "    n2=eval(input('enter n2 '))\n",
    "    add=n1+n2\n",
    "\n"
   ]
  },
  {
   "cell_type": "code",
   "execution_count": 12,
   "id": "acf1919b",
   "metadata": {},
   "outputs": [
    {
     "name": "stdout",
     "output_type": "stream",
     "text": [
      "enter n2 2\n"
     ]
    }
   ],
   "source": [
    "additon2(2)"
   ]
  },
  {
   "cell_type": "code",
   "execution_count": 13,
   "id": "fa461d3a",
   "metadata": {},
   "outputs": [],
   "source": [
    "def avg():\n",
    "    n1 = eval(input(\"enter n1 \"))\n",
    "    n2 = eval(input(\"enter n2 \"))\n",
    "    n3 = eval(input(\"enter n3 \"))\n",
    "    avg = n1+n2+n3/3\n",
    "    print(f'avg = {avg}')"
   ]
  },
  {
   "cell_type": "code",
   "execution_count": 14,
   "id": "f9ad315e",
   "metadata": {},
   "outputs": [
    {
     "name": "stdout",
     "output_type": "stream",
     "text": [
      "enter n1 1\n",
      "enter n2 2\n",
      "enter n3 4\n",
      "avg = 4.333333333333333\n"
     ]
    }
   ],
   "source": [
    "avg()"
   ]
  },
  {
   "cell_type": "code",
   "execution_count": 15,
   "id": "00dbadd3",
   "metadata": {},
   "outputs": [
    {
     "name": "stdout",
     "output_type": "stream",
     "text": [
      "enter n2 100\n",
      "enter n3 200\n",
      "avg = 168.66666666666669\n"
     ]
    }
   ],
   "source": [
    "def avg1(n1):\n",
    "    n2 = eval(input(\"enter n2 \"))\n",
    "    n3 = eval(input(\"enter n3 \"))\n",
    "    avg = n1+n2+n3/3\n",
    "    print(f'avg = {avg}')\n",
    "avg1(2)"
   ]
  },
  {
   "cell_type": "code",
   "execution_count": 16,
   "id": "1fe76030",
   "metadata": {},
   "outputs": [
    {
     "name": "stdout",
     "output_type": "stream",
     "text": [
      "enter salary1000\n",
      "enter tax10\n",
      "total tax pay 10\n",
      "function with arguments\n",
      "total tax pay 10\n",
      "function with default arguments\n",
      "total tax pay 20\n"
     ]
    }
   ],
   "source": [
    "def tax_cal():\n",
    "    sal = eval(input(\"enter salary\"))\n",
    "    tax_per = eval(input(\"enter tax\"))\n",
    "    tax_pay = sal*tax_per/100\n",
    "    print(\"total tax pay\", tax_per)\n",
    "tax_cal()\n",
    "print(\"function with arguments\")\n",
    "def tax_cal1(sal, tax_per):\n",
    "    tax_pay = sal*tax_per/100\n",
    "    print(\"total tax pay\", tax_per)\n",
    "tax_cal1(1000,10)\n",
    "print(\"function with default arguments\")\n",
    "def tax_cal2(sal, tax_per=20):\n",
    "    tax_pay = sal*tax_per/100\n",
    "    print(\"total tax pay\", tax_per)\n",
    "tax_cal2(1000)"
   ]
  },
  {
   "cell_type": "code",
   "execution_count": 17,
   "id": "ebeccdaf",
   "metadata": {},
   "outputs": [],
   "source": [
    "from random import randint, random"
   ]
  },
  {
   "cell_type": "code",
   "execution_count": null,
   "id": "fb60323d",
   "metadata": {},
   "outputs": [],
   "source": [
    "random()\n",
    "tax_cal()\n"
   ]
  },
  {
   "cell_type": "code",
   "execution_count": 18,
   "id": "203847a8",
   "metadata": {},
   "outputs": [
    {
     "data": {
      "text/plain": [
       "(3+4j)"
      ]
     },
     "execution_count": 18,
     "metadata": {},
     "output_type": "execute_result"
    }
   ],
   "source": [
    "complex(3,4)"
   ]
  },
  {
   "cell_type": "code",
   "execution_count": 19,
   "id": "4d32eb05",
   "metadata": {},
   "outputs": [
    {
     "data": {
      "text/plain": [
       "(3+0j)"
      ]
     },
     "execution_count": 19,
     "metadata": {},
     "output_type": "execute_result"
    }
   ],
   "source": [
    "complex(3)"
   ]
  },
  {
   "cell_type": "code",
   "execution_count": 20,
   "id": "48b34e45",
   "metadata": {},
   "outputs": [
    {
     "data": {
      "text/plain": [
       "0j"
      ]
     },
     "execution_count": 20,
     "metadata": {},
     "output_type": "execute_result"
    }
   ],
   "source": [
    "complex()"
   ]
  },
  {
   "cell_type": "code",
   "execution_count": 22,
   "id": "b7d49a41",
   "metadata": {},
   "outputs": [
    {
     "name": "stdout",
     "output_type": "stream",
     "text": [
      "100\n",
      "200\n",
      "300\n",
      "summatio of 100, 200 and 300 is 600\n"
     ]
    }
   ],
   "source": [
    "def add(a,b,c):\n",
    "    print(a)\n",
    "    print(b)\n",
    "    print(c)\n",
    "    sum = a+b+c\n",
    "    print(f'summatio of {a}, {b} and {c} is {sum}')\n",
    "add(100,200,300)"
   ]
  },
  {
   "cell_type": "code",
   "execution_count": 24,
   "id": "695de3a4",
   "metadata": {},
   "outputs": [
    {
     "name": "stdout",
     "output_type": "stream",
     "text": [
      "100\n",
      "200\n",
      "600\n",
      "summatio of 100, 200 and 600 is 900\n"
     ]
    }
   ],
   "source": [
    "def add(a,b,c=300):\n",
    "    print(a)\n",
    "    print(b)\n",
    "    print(c)\n",
    "    sum = a+b+c\n",
    "    print(f'summatio of {a}, {b} and {c} is {sum}')\n",
    "add(100,200,600)"
   ]
  },
  {
   "cell_type": "code",
   "execution_count": 26,
   "id": "c28b8e89",
   "metadata": {},
   "outputs": [
    {
     "name": "stdout",
     "output_type": "stream",
     "text": [
      "100\n",
      "200\n",
      "1000\n",
      "summatio of 100, 200 and 1000 is 1300\n"
     ]
    }
   ],
   "source": [
    "def add(a,b,c=300):\n",
    "    c=1000\n",
    "    print(a)\n",
    "    print(b)\n",
    "    print(c)\n",
    "    sum = a+b+c\n",
    "    print(f'summatio of {a}, {b} and {c} is {sum}')\n",
    "add(100,200,300)"
   ]
  },
  {
   "cell_type": "code",
   "execution_count": 27,
   "id": "e16438c8",
   "metadata": {},
   "outputs": [
    {
     "name": "stdout",
     "output_type": "stream",
     "text": [
      "100\n",
      "200\n",
      "1000\n",
      "summatio of 100, 200 and 1000 is 1300\n"
     ]
    }
   ],
   "source": [
    "def add(a,b,c):\n",
    "    c=1000\n",
    "    print(a)\n",
    "    print(b)\n",
    "    print(c)\n",
    "    sum = a+b+c\n",
    "    print(f'summatio of {a}, {b} and {c} is {sum}')\n",
    "add(100,200,300)"
   ]
  },
  {
   "cell_type": "code",
   "execution_count": 28,
   "id": "1d2bb749",
   "metadata": {},
   "outputs": [
    {
     "name": "stdout",
     "output_type": "stream",
     "text": [
      "100\n",
      "200\n",
      "1000\n",
      "summatio of 100, 200 and 1000 is 1300\n"
     ]
    }
   ],
   "source": [
    "def add(a,b,c):\n",
    "    c=1000\n",
    "    print(a)\n",
    "    print(b)\n",
    "    print(c)\n",
    "    sum = a+b+c\n",
    "    print(f'summatio of {a}, {b} and {c} is {sum}')\n",
    "c=2000\n",
    "add(100,200,300)"
   ]
  },
  {
   "cell_type": "code",
   "execution_count": 29,
   "id": "264d4b72",
   "metadata": {},
   "outputs": [
    {
     "ename": "TypeError",
     "evalue": "add() missing 1 required positional argument: 'c'",
     "output_type": "error",
     "traceback": [
      "\u001b[1;31m---------------------------------------------------------------------------\u001b[0m",
      "\u001b[1;31mTypeError\u001b[0m                                 Traceback (most recent call last)",
      "Cell \u001b[1;32mIn[29], line 9\u001b[0m\n\u001b[0;32m      7\u001b[0m     \u001b[38;5;28mprint\u001b[39m(\u001b[38;5;124mf\u001b[39m\u001b[38;5;124m'\u001b[39m\u001b[38;5;124msummatio of \u001b[39m\u001b[38;5;132;01m{\u001b[39;00ma\u001b[38;5;132;01m}\u001b[39;00m\u001b[38;5;124m, \u001b[39m\u001b[38;5;132;01m{\u001b[39;00mb\u001b[38;5;132;01m}\u001b[39;00m\u001b[38;5;124m and \u001b[39m\u001b[38;5;132;01m{\u001b[39;00mc\u001b[38;5;132;01m}\u001b[39;00m\u001b[38;5;124m is \u001b[39m\u001b[38;5;132;01m{\u001b[39;00m\u001b[38;5;28msum\u001b[39m\u001b[38;5;132;01m}\u001b[39;00m\u001b[38;5;124m'\u001b[39m)\n\u001b[0;32m      8\u001b[0m c\u001b[38;5;241m=\u001b[39m\u001b[38;5;241m2000\u001b[39m\n\u001b[1;32m----> 9\u001b[0m add(\u001b[38;5;241m100\u001b[39m,\u001b[38;5;241m200\u001b[39m)\n",
      "\u001b[1;31mTypeError\u001b[0m: add() missing 1 required positional argument: 'c'"
     ]
    }
   ],
   "source": [
    "c=3000\n",
    "def add(a,b,c):\n",
    "    print(a)\n",
    "    print(b)\n",
    "    print(c)\n",
    "    sum = a+b+c\n",
    "    print(f'summatio of {a}, {b} and {c} is {sum}')\n",
    "c=2000\n",
    "add(100,200)"
   ]
  },
  {
   "cell_type": "code",
   "execution_count": 31,
   "id": "293558f7",
   "metadata": {},
   "outputs": [
    {
     "name": "stdout",
     "output_type": "stream",
     "text": [
      "sum of 100, 200 is 300\n"
     ]
    }
   ],
   "source": [
    "def addition():\n",
    "    n1=100\n",
    "    n2=200\n",
    "    sum=n1+n2\n",
    "    print(f'sum of {n1}, {n2} is {sum}')\n",
    "addition()"
   ]
  },
  {
   "cell_type": "code",
   "execution_count": 32,
   "id": "22ecd368",
   "metadata": {},
   "outputs": [
    {
     "name": "stdout",
     "output_type": "stream",
     "text": [
      "sum of 200, 200 is 400\n"
     ]
    }
   ],
   "source": [
    "n1=200\n",
    "n2=200\n",
    "def addition():\n",
    "    sum=n1+n2\n",
    "    print(f'sum of {n1}, {n2} is {sum}')\n",
    "addition()"
   ]
  },
  {
   "cell_type": "code",
   "execution_count": 33,
   "id": "a7a2e054",
   "metadata": {},
   "outputs": [
    {
     "name": "stdout",
     "output_type": "stream",
     "text": [
      "sum of 100, 200 is 300\n"
     ]
    }
   ],
   "source": [
    "n1=200\n",
    "n2=200\n",
    "def addition():\n",
    "    n1=100\n",
    "    sum=n1+n2\n",
    "    print(f'sum of {n1}, {n2} is {sum}')\n",
    "addition()"
   ]
  },
  {
   "cell_type": "code",
   "execution_count": 38,
   "id": "0997d686",
   "metadata": {},
   "outputs": [
    {
     "name": "stdout",
     "output_type": "stream",
     "text": [
      "sum of 200, 200 is 400\n"
     ]
    }
   ],
   "source": [
    "n1=200\n",
    "n2=200\n",
    "def addition():\n",
    "    global summ\n",
    "    summ=n1+n2\n",
    "    print(f'sum of {n1}, {n2} is {summ}')\n",
    "addition()"
   ]
  },
  {
   "cell_type": "code",
   "execution_count": 39,
   "id": "7548f06d",
   "metadata": {},
   "outputs": [
    {
     "data": {
      "text/plain": [
       "400"
      ]
     },
     "execution_count": 39,
     "metadata": {},
     "output_type": "execute_result"
    }
   ],
   "source": [
    "summ"
   ]
  },
  {
   "cell_type": "code",
   "execution_count": 44,
   "id": "ba826306",
   "metadata": {},
   "outputs": [
    {
     "name": "stdout",
     "output_type": "stream",
     "text": [
      "101\n"
     ]
    }
   ],
   "source": [
    "s=1\n",
    "def add1():\n",
    "    global s\n",
    "    n1=100\n",
    "    s=s+n1\n",
    "    print(s)\n",
    "add1()"
   ]
  },
  {
   "cell_type": "code",
   "execution_count": 52,
   "id": "804a7422",
   "metadata": {},
   "outputs": [
    {
     "name": "stdout",
     "output_type": "stream",
     "text": [
      "101\n"
     ]
    }
   ],
   "source": [
    "summ1=1\n",
    "def add1():\n",
    "    n1=100\n",
    "    global summ1\n",
    "    summ1=summ1+n1\n",
    "    print(summ1)\n",
    "add1()"
   ]
  },
  {
   "cell_type": "code",
   "execution_count": 55,
   "id": "f9a8ba88",
   "metadata": {},
   "outputs": [
    {
     "name": "stdout",
     "output_type": "stream",
     "text": [
      "60 20.0\n"
     ]
    }
   ],
   "source": [
    "def avg(a,b,c):\n",
    "    global ADD, AVG1\n",
    "    ADD=a+b+c\n",
    "    AVG1=ADD/3\n",
    "    print(ADD,AVG1)\n",
    "avg(10,20,30)"
   ]
  },
  {
   "cell_type": "code",
   "execution_count": 4,
   "id": "d5fa6fb2",
   "metadata": {},
   "outputs": [
    {
     "name": "stdout",
     "output_type": "stream",
     "text": [
      "Enter a number if its even/odd2\n",
      "number is even\n",
      "number is even\n",
      "number is even\n"
     ]
    }
   ],
   "source": [
    "numb = eval(input(\"Enter a number if its even/odd\"))\n",
    "def numm():\n",
    "    if numb % 2 == 0:\n",
    "        print(\"number is even\")\n",
    "    else:\n",
    "        print(\"Number is odd\")\n",
    "numm()\n",
    "\n",
    "def numm1(n):\n",
    "    if n % 2 == 0:\n",
    "        print(\"number is even\")\n",
    "    else:\n",
    "        print(\"Number is odd\")\n",
    "numm1(2)\n",
    "\n",
    "\n"
   ]
  },
  {
   "cell_type": "code",
   "execution_count": 5,
   "id": "d3b5069b",
   "metadata": {},
   "outputs": [
    {
     "ename": "SyntaxError",
     "evalue": "name 'n' is parameter and global (1749045889.py, line 2)",
     "output_type": "error",
     "traceback": [
      "\u001b[1;36m  Cell \u001b[1;32mIn[5], line 2\u001b[1;36m\u001b[0m\n\u001b[1;33m    global n\u001b[0m\n\u001b[1;37m    ^\u001b[0m\n\u001b[1;31mSyntaxError\u001b[0m\u001b[1;31m:\u001b[0m name 'n' is parameter and global\n"
     ]
    }
   ],
   "source": [
    "def numm1(n=2):\n",
    "    global n\n",
    "    if n%2 == 0:\n",
    "        print(\"number is even\")\n",
    "    else:\n",
    "        print(\"Number is odd\")\n",
    "numm1()"
   ]
  },
  {
   "cell_type": "markdown",
   "id": "fa2def13",
   "metadata": {},
   "source": [
    "** TO solve above issue **"
   ]
  },
  {
   "cell_type": "code",
   "execution_count": 20,
   "id": "4fec387c",
   "metadata": {},
   "outputs": [],
   "source": [
    "def avg(a,b,c):\n",
    "    summ = a+b+c\n",
    "    AVG = summ/3\n",
    "    return (summ,AVG)"
   ]
  },
  {
   "cell_type": "code",
   "execution_count": 16,
   "id": "1625a942",
   "metadata": {},
   "outputs": [],
   "source": [
    "summ = avg(10,20,30)\n",
    "AVG = avg(10,20,30)"
   ]
  },
  {
   "cell_type": "code",
   "execution_count": 21,
   "id": "77ac6d33",
   "metadata": {},
   "outputs": [],
   "source": [
    "summ,AVG = avg(10,20,30)"
   ]
  },
  {
   "cell_type": "code",
   "execution_count": 22,
   "id": "75897100",
   "metadata": {},
   "outputs": [
    {
     "data": {
      "text/plain": [
       "20.0"
      ]
     },
     "execution_count": 22,
     "metadata": {},
     "output_type": "execute_result"
    }
   ],
   "source": [
    "AVG"
   ]
  },
  {
   "cell_type": "code",
   "execution_count": 28,
   "id": "5c0d2f5b",
   "metadata": {},
   "outputs": [
    {
     "name": "stdout",
     "output_type": "stream",
     "text": [
      "enter num: 10\n",
      "10\n"
     ]
    }
   ],
   "source": [
    "def numm1():\n",
    "    n=eval(input(\"enter num: \"))\n",
    "    if n%2 == 0:\n",
    "    # even = print(\"number is even\")\n",
    "        return n\n",
    "    else:\n",
    "     #   odd=print(\"Number is odd\")\n",
    "        return n\n",
    "n = numm1()\n",
    "print(n)"
   ]
  },
  {
   "cell_type": "code",
   "execution_count": 29,
   "id": "4eca7872",
   "metadata": {},
   "outputs": [
    {
     "name": "stdout",
     "output_type": "stream",
     "text": [
      "enter num: 10\n",
      "number is even\n",
      "20\n"
     ]
    }
   ],
   "source": [
    "def numm1():\n",
    "    n=eval(input(\"enter num: \"))\n",
    "    if n%2 == 0:\n",
    "        val=10\n",
    "        print(\"number is even\")\n",
    "        return(n+10)\n",
    "    else:\n",
    "        val=20\n",
    "        print(\"Number is odd\")\n",
    "        return(n+20)\n",
    "output = numm1()\n",
    "print(output)"
   ]
  },
  {
   "cell_type": "code",
   "execution_count": 31,
   "id": "a5e67ae4",
   "metadata": {},
   "outputs": [
    {
     "data": {
      "text/plain": [
       "15"
      ]
     },
     "execution_count": 31,
     "metadata": {},
     "output_type": "execute_result"
    }
   ],
   "source": [
    "def add(n):\n",
    "    if n==0:\n",
    "        return(0)\n",
    "    else:\n",
    "        return(n+add(n-1))\n",
    "add(5)"
   ]
  },
  {
   "cell_type": "code",
   "execution_count": null,
   "id": "8bc56a60",
   "metadata": {},
   "outputs": [],
   "source": [
    "#Q1 Factorial recursion 5*4*3*2*1\n",
    "#Q2 Calculator program\n",
    "# step1 create 4 function\n",
    "# def add\n",
    "#def mul\n",
    "#3 print enter 1 for add, 2  for asun\n",
    "\n",
    "#def main():\n",
    "#    opyion inpiu\n",
    "#    if option 1 then add\n",
    "#    return\n"
   ]
  },
  {
   "cell_type": "code",
   "execution_count": null,
   "id": "34a5d793",
   "metadata": {},
   "outputs": [],
   "source": []
  }
 ],
 "metadata": {
  "kernelspec": {
   "display_name": "Python 3 (ipykernel)",
   "language": "python",
   "name": "python3"
  },
  "language_info": {
   "codemirror_mode": {
    "name": "ipython",
    "version": 3
   },
   "file_extension": ".py",
   "mimetype": "text/x-python",
   "name": "python",
   "nbconvert_exporter": "python",
   "pygments_lexer": "ipython3",
   "version": "3.11.5"
  }
 },
 "nbformat": 4,
 "nbformat_minor": 5
}
