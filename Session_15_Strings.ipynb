{
 "cells": [
  {
   "cell_type": "markdown",
   "id": "93888097",
   "metadata": {},
   "source": [
    "**** OOPS Concents ***"
   ]
  },
  {
   "cell_type": "markdown",
   "id": "f372fc4a",
   "metadata": {},
   "source": [
    "- basic representation\n",
    "- In built function\n",
    "    - sum\n",
    "    - max\n",
    "    - min\n",
    "    - print\n",
    "    type\n",
    "    len\n",
    "    -sorted\n",
    "- concatenation\n",
    "- indexing\n",
    "- mutable or immutable comcept\n",
    "- slice\n",
    "- methods"
   ]
  },
  {
   "cell_type": "code",
   "execution_count": 1,
   "id": "7a71b560",
   "metadata": {},
   "outputs": [
    {
     "data": {
      "text/plain": [
       "'python'"
      ]
     },
     "execution_count": 1,
     "metadata": {},
     "output_type": "execute_result"
    }
   ],
   "source": [
    "name = 'python'\n",
    "name"
   ]
  },
  {
   "cell_type": "code",
   "execution_count": 2,
   "id": "85e457e1",
   "metadata": {},
   "outputs": [
    {
     "name": "stdout",
     "output_type": "stream",
     "text": [
      "python\n"
     ]
    }
   ],
   "source": [
    "print(name)"
   ]
  },
  {
   "cell_type": "code",
   "execution_count": 4,
   "id": "bd96e42d",
   "metadata": {},
   "outputs": [
    {
     "name": "stdout",
     "output_type": "stream",
     "text": [
      "i love 'python'\n"
     ]
    }
   ],
   "source": [
    "str1=\"i love 'python'\"\n",
    "\n",
    "print(str1)"
   ]
  },
  {
   "cell_type": "code",
   "execution_count": 5,
   "id": "482ef95b",
   "metadata": {},
   "outputs": [
    {
     "data": {
      "text/plain": [
       "str"
      ]
     },
     "execution_count": 5,
     "metadata": {},
     "output_type": "execute_result"
    }
   ],
   "source": [
    "name = 'python'\n",
    "type(name)"
   ]
  },
  {
   "cell_type": "code",
   "execution_count": 6,
   "id": "9daf028d",
   "metadata": {},
   "outputs": [
    {
     "data": {
      "text/plain": [
       "5"
      ]
     },
     "execution_count": 6,
     "metadata": {},
     "output_type": "execute_result"
    }
   ],
   "source": [
    "len('pthon')"
   ]
  },
  {
   "cell_type": "code",
   "execution_count": 7,
   "id": "db03b27b",
   "metadata": {},
   "outputs": [
    {
     "ename": "TypeError",
     "evalue": "'int' object is not iterable",
     "output_type": "error",
     "traceback": [
      "\u001b[1;31m---------------------------------------------------------------------------\u001b[0m",
      "\u001b[1;31mTypeError\u001b[0m                                 Traceback (most recent call last)",
      "Cell \u001b[1;32mIn[7], line 1\u001b[0m\n\u001b[1;32m----> 1\u001b[0m \u001b[38;5;28mmax\u001b[39m(\u001b[38;5;241m4\u001b[39m)\n",
      "\u001b[1;31mTypeError\u001b[0m: 'int' object is not iterable"
     ]
    }
   ],
   "source": [
    "max(4)"
   ]
  },
  {
   "cell_type": "code",
   "execution_count": 8,
   "id": "4f97e5f6",
   "metadata": {},
   "outputs": [
    {
     "data": {
      "text/plain": [
       "5"
      ]
     },
     "execution_count": 8,
     "metadata": {},
     "output_type": "execute_result"
    }
   ],
   "source": [
    "max(1, 5)"
   ]
  },
  {
   "cell_type": "code",
   "execution_count": 9,
   "id": "c9259c48",
   "metadata": {},
   "outputs": [
    {
     "data": {
      "text/plain": [
       "4"
      ]
     },
     "execution_count": 9,
     "metadata": {},
     "output_type": "execute_result"
    }
   ],
   "source": [
    "min(10,4)"
   ]
  },
  {
   "cell_type": "code",
   "execution_count": 14,
   "id": "41004065",
   "metadata": {},
   "outputs": [
    {
     "data": {
      "text/plain": [
       "27"
      ]
     },
     "execution_count": 14,
     "metadata": {},
     "output_type": "execute_result"
    }
   ],
   "source": [
    "num = [10, 4, 6, 7]\n",
    "sum(num)"
   ]
  },
  {
   "cell_type": "code",
   "execution_count": 15,
   "id": "eeb347aa",
   "metadata": {},
   "outputs": [
    {
     "data": {
      "text/plain": [
       "10"
      ]
     },
     "execution_count": 15,
     "metadata": {},
     "output_type": "execute_result"
    }
   ],
   "source": [
    "max(num)"
   ]
  },
  {
   "cell_type": "code",
   "execution_count": 16,
   "id": "eee4e719",
   "metadata": {},
   "outputs": [
    {
     "data": {
      "text/plain": [
       "[4, 6, 7, 10]"
      ]
     },
     "execution_count": 16,
     "metadata": {},
     "output_type": "execute_result"
    }
   ],
   "source": [
    "sorted(num)"
   ]
  },
  {
   "cell_type": "code",
   "execution_count": 17,
   "id": "a826de1d",
   "metadata": {},
   "outputs": [
    {
     "data": {
      "text/plain": [
       "<list_reverseiterator at 0x1eb6ee46560>"
      ]
     },
     "execution_count": 17,
     "metadata": {},
     "output_type": "execute_result"
    }
   ],
   "source": [
    "reversed(num)"
   ]
  },
  {
   "cell_type": "code",
   "execution_count": 18,
   "id": "f02477f6",
   "metadata": {},
   "outputs": [
    {
     "data": {
      "text/plain": [
       "[7, 6, 4, 10]"
      ]
     },
     "execution_count": 18,
     "metadata": {},
     "output_type": "execute_result"
    }
   ],
   "source": [
    "list(reversed(num))"
   ]
  },
  {
   "cell_type": "code",
   "execution_count": 23,
   "id": "7fbf330b",
   "metadata": {},
   "outputs": [
    {
     "name": "stdout",
     "output_type": "stream",
     "text": [
      "112 p\n",
      "121 y\n",
      "104 h\n",
      "111 o\n",
      "110 n\n"
     ]
    }
   ],
   "source": [
    "for i in 'pyhon':\n",
    "    print(ord(i), i)"
   ]
  },
  {
   "cell_type": "code",
   "execution_count": 24,
   "id": "7039f136",
   "metadata": {},
   "outputs": [
    {
     "data": {
      "text/plain": [
       "['h', 'n', 'o', 'p', 'y']"
      ]
     },
     "execution_count": 24,
     "metadata": {},
     "output_type": "execute_result"
    }
   ],
   "source": [
    "sorted('pyhon')"
   ]
  },
  {
   "cell_type": "markdown",
   "id": "9d4f3058",
   "metadata": {},
   "source": [
    "**iterable - Anything using loop\n"
   ]
  },
  {
   "cell_type": "code",
   "execution_count": 25,
   "id": "b3262c7e",
   "metadata": {},
   "outputs": [
    {
     "data": {
      "text/plain": [
       "['h', 'n', 'o', 'p', 't', 'y']"
      ]
     },
     "execution_count": 25,
     "metadata": {},
     "output_type": "execute_result"
    }
   ],
   "source": [
    "sorted(reversed('python'))"
   ]
  },
  {
   "cell_type": "markdown",
   "id": "4af42379",
   "metadata": {},
   "source": [
    "**Note\n",
    "/ before dont use argument name\n",
    "/ after you can use argument nAME\n",
    "* indicates no need to maintain order of argumwnts"
   ]
  },
  {
   "cell_type": "code",
   "execution_count": 26,
   "id": "8cc4d796",
   "metadata": {},
   "outputs": [
    {
     "name": "stdout",
     "output_type": "stream",
     "text": [
      "40\n"
     ]
    }
   ],
   "source": [
    "def add(a, /, *, b, c):\n",
    "    print(a+b+c)\n",
    "add(10,c=10, b=20)  "
   ]
  },
  {
   "cell_type": "code",
   "execution_count": 29,
   "id": "42dae49f",
   "metadata": {},
   "outputs": [
    {
     "data": {
      "text/plain": [
       "['y', 't', 'p', 'o', 'n', 'h']"
      ]
     },
     "execution_count": 29,
     "metadata": {},
     "output_type": "execute_result"
    }
   ],
   "source": [
    "sorted('python',reverse=True)"
   ]
  },
  {
   "cell_type": "code",
   "execution_count": 31,
   "id": "160123c9",
   "metadata": {},
   "outputs": [
    {
     "data": {
      "text/plain": [
       "<reversed at 0x1eb6ee366e0>"
      ]
     },
     "execution_count": 31,
     "metadata": {},
     "output_type": "execute_result"
    }
   ],
   "source": [
    "reversed('prashant')"
   ]
  },
  {
   "cell_type": "code",
   "execution_count": 34,
   "id": "62ee3c50",
   "metadata": {},
   "outputs": [
    {
     "ename": "TypeError",
     "evalue": "unsupported operand type(s) for /: 'str' and 'str'",
     "output_type": "error",
     "traceback": [
      "\u001b[1;31m---------------------------------------------------------------------------\u001b[0m",
      "\u001b[1;31mTypeError\u001b[0m                                 Traceback (most recent call last)",
      "Cell \u001b[1;32mIn[34], line 4\u001b[0m\n\u001b[0;32m      1\u001b[0m str1\u001b[38;5;241m=\u001b[39m\u001b[38;5;124m'\u001b[39m\u001b[38;5;124mhello\u001b[39m\u001b[38;5;124m'\u001b[39m\n\u001b[0;32m      2\u001b[0m str2\u001b[38;5;241m=\u001b[39m\u001b[38;5;124m'\u001b[39m\u001b[38;5;124mpython\u001b[39m\u001b[38;5;124m'\u001b[39m\n\u001b[1;32m----> 4\u001b[0m str1\u001b[38;5;241m/\u001b[39mstr2\n",
      "\u001b[1;31mTypeError\u001b[0m: unsupported operand type(s) for /: 'str' and 'str'"
     ]
    }
   ],
   "source": [
    "str1='hello'\n",
    "str2='python'\n",
    "str1+str2\n",
    "str1*str2"
   ]
  },
  {
   "cell_type": "markdown",
   "id": "65877366",
   "metadata": {},
   "source": [
    "**Slice**\n",
    "it has similar analogy like loop range\n",
    "range(start,stop,step)  str[start:stop:step]"
   ]
  },
  {
   "cell_type": "markdown",
   "id": "221e5ad4",
   "metadata": {},
   "source": [
    "h  e  l  l  o    h  o  w     a  r  e     y  o  u\n",
    "0  1  2  3  4  5 6  7  8  9  10 11 12 13 14 15 16\n",
    "-17                                            -1"
   ]
  },
  {
   "cell_type": "code",
   "execution_count": 1,
   "id": "aaa84e27",
   "metadata": {},
   "outputs": [
    {
     "data": {
      "text/plain": [
       "'hello'"
      ]
     },
     "execution_count": 1,
     "metadata": {},
     "output_type": "execute_result"
    }
   ],
   "source": [
    "str1='hello how are you'\n",
    "str1[:5]"
   ]
  },
  {
   "cell_type": "code",
   "execution_count": 4,
   "id": "2f4c5cbf",
   "metadata": {},
   "outputs": [
    {
     "data": {
      "text/plain": [
       "'how are you'"
      ]
     },
     "execution_count": 4,
     "metadata": {},
     "output_type": "execute_result"
    }
   ],
   "source": [
    "str1[6:]"
   ]
  },
  {
   "cell_type": "code",
   "execution_count": 7,
   "id": "2f4a9575",
   "metadata": {},
   "outputs": [
    {
     "data": {
      "text/plain": [
       "'you'"
      ]
     },
     "execution_count": 7,
     "metadata": {},
     "output_type": "execute_result"
    }
   ],
   "source": [
    "str1='hello how are you'\n",
    "str1[-3:]"
   ]
  },
  {
   "cell_type": "code",
   "execution_count": 8,
   "id": "e25bb746",
   "metadata": {},
   "outputs": [
    {
     "data": {
      "text/plain": [
       "'llo how '"
      ]
     },
     "execution_count": 8,
     "metadata": {},
     "output_type": "execute_result"
    }
   ],
   "source": [
    "str1[-15:10]"
   ]
  },
  {
   "cell_type": "code",
   "execution_count": 9,
   "id": "75ffbee6",
   "metadata": {},
   "outputs": [
    {
     "data": {
      "text/plain": [
       "'lohwa'"
      ]
     },
     "execution_count": 9,
     "metadata": {},
     "output_type": "execute_result"
    }
   ],
   "source": [
    "#where i am standing\n",
    "#where its stopping\n",
    "#step is positive or negative whoch direction\n",
    "str1[2:-5:2]"
   ]
  },
  {
   "cell_type": "code",
   "execution_count": 10,
   "id": "1c881038",
   "metadata": {},
   "outputs": [
    {
     "data": {
      "text/plain": [
       "'uoy era woh olleh'"
      ]
     },
     "execution_count": 10,
     "metadata": {},
     "output_type": "execute_result"
    }
   ],
   "source": [
    "str1[::-1]"
   ]
  },
  {
   "cell_type": "code",
   "execution_count": 11,
   "id": "7819ea3e",
   "metadata": {},
   "outputs": [
    {
     "data": {
      "text/plain": [
       "54321"
      ]
     },
     "execution_count": 11,
     "metadata": {},
     "output_type": "execute_result"
    }
   ],
   "source": [
    "num=12345\n",
    "int(str(num)[::-1])"
   ]
  },
  {
   "cell_type": "markdown",
   "id": "4caaac4c",
   "metadata": {},
   "source": [
    "**Methods**\n"
   ]
  },
  {
   "cell_type": "code",
   "execution_count": 12,
   "id": "b74b2bd7",
   "metadata": {},
   "outputs": [
    {
     "data": {
      "text/plain": [
       "['__add__',\n",
       " '__class__',\n",
       " '__contains__',\n",
       " '__delattr__',\n",
       " '__dir__',\n",
       " '__doc__',\n",
       " '__eq__',\n",
       " '__format__',\n",
       " '__ge__',\n",
       " '__getattribute__',\n",
       " '__getitem__',\n",
       " '__getnewargs__',\n",
       " '__getstate__',\n",
       " '__gt__',\n",
       " '__hash__',\n",
       " '__init__',\n",
       " '__init_subclass__',\n",
       " '__iter__',\n",
       " '__le__',\n",
       " '__len__',\n",
       " '__lt__',\n",
       " '__mod__',\n",
       " '__mul__',\n",
       " '__ne__',\n",
       " '__new__',\n",
       " '__reduce__',\n",
       " '__reduce_ex__',\n",
       " '__repr__',\n",
       " '__rmod__',\n",
       " '__rmul__',\n",
       " '__setattr__',\n",
       " '__sizeof__',\n",
       " '__str__',\n",
       " '__subclasshook__',\n",
       " 'capitalize',\n",
       " 'casefold',\n",
       " 'center',\n",
       " 'count',\n",
       " 'encode',\n",
       " 'endswith',\n",
       " 'expandtabs',\n",
       " 'find',\n",
       " 'format',\n",
       " 'format_map',\n",
       " 'index',\n",
       " 'isalnum',\n",
       " 'isalpha',\n",
       " 'isascii',\n",
       " 'isdecimal',\n",
       " 'isdigit',\n",
       " 'isidentifier',\n",
       " 'islower',\n",
       " 'isnumeric',\n",
       " 'isprintable',\n",
       " 'isspace',\n",
       " 'istitle',\n",
       " 'isupper',\n",
       " 'join',\n",
       " 'ljust',\n",
       " 'lower',\n",
       " 'lstrip',\n",
       " 'maketrans',\n",
       " 'partition',\n",
       " 'removeprefix',\n",
       " 'removesuffix',\n",
       " 'replace',\n",
       " 'rfind',\n",
       " 'rindex',\n",
       " 'rjust',\n",
       " 'rpartition',\n",
       " 'rsplit',\n",
       " 'rstrip',\n",
       " 'split',\n",
       " 'splitlines',\n",
       " 'startswith',\n",
       " 'strip',\n",
       " 'swapcase',\n",
       " 'title',\n",
       " 'translate',\n",
       " 'upper',\n",
       " 'zfill']"
      ]
     },
     "execution_count": 12,
     "metadata": {},
     "output_type": "execute_result"
    }
   ],
   "source": [
    "name='python'\n",
    "dir(name)"
   ]
  },
  {
   "cell_type": "markdown",
   "id": "7b78b90f",
   "metadata": {},
   "source": [
    "** upper Method **\n"
   ]
  },
  {
   "cell_type": "code",
   "execution_count": 14,
   "id": "86e4401e",
   "metadata": {},
   "outputs": [
    {
     "data": {
      "text/plain": [
       "'WELCOME'"
      ]
     },
     "execution_count": 14,
     "metadata": {},
     "output_type": "execute_result"
    }
   ],
   "source": [
    "str1='welcome'\n",
    "str1.upper()"
   ]
  },
  {
   "cell_type": "code",
   "execution_count": 15,
   "id": "58acb7b8",
   "metadata": {},
   "outputs": [
    {
     "data": {
      "text/plain": [
       "'welcome'"
      ]
     },
     "execution_count": 15,
     "metadata": {},
     "output_type": "execute_result"
    }
   ],
   "source": [
    "str1.lower()\n"
   ]
  },
  {
   "cell_type": "code",
   "execution_count": 16,
   "id": "d68cf250",
   "metadata": {},
   "outputs": [
    {
     "data": {
      "text/plain": [
       "'Welcome'"
      ]
     },
     "execution_count": 16,
     "metadata": {},
     "output_type": "execute_result"
    }
   ],
   "source": [
    "str1.title()\n"
   ]
  },
  {
   "cell_type": "code",
   "execution_count": 17,
   "id": "8eb1bdc1",
   "metadata": {},
   "outputs": [
    {
     "data": {
      "text/plain": [
       "'Welcome'"
      ]
     },
     "execution_count": 17,
     "metadata": {},
     "output_type": "execute_result"
    }
   ],
   "source": [
    "str1.capitalize()\n"
   ]
  },
  {
   "cell_type": "code",
   "execution_count": 18,
   "id": "8d859436",
   "metadata": {},
   "outputs": [
    {
     "data": {
      "text/plain": [
       "'welcome'"
      ]
     },
     "execution_count": 18,
     "metadata": {},
     "output_type": "execute_result"
    }
   ],
   "source": [
    "str1.casefold()"
   ]
  },
  {
   "cell_type": "code",
   "execution_count": 23,
   "id": "2e06351f",
   "metadata": {},
   "outputs": [
    {
     "data": {
      "text/plain": [
       "'***python***'"
      ]
     },
     "execution_count": 23,
     "metadata": {},
     "output_type": "execute_result"
    }
   ],
   "source": [
    "str1='python'\n",
    "str1.center(12,'*')"
   ]
  },
  {
   "cell_type": "markdown",
   "id": "b5d96662",
   "metadata": {},
   "source": [
    "**Strip**\n",
    "lstrip\n",
    "rstrip\n",
    "remove chars\n"
   ]
  },
  {
   "cell_type": "code",
   "execution_count": 24,
   "id": "38febae7",
   "metadata": {},
   "outputs": [
    {
     "data": {
      "text/plain": [
       "'python'"
      ]
     },
     "execution_count": 24,
     "metadata": {},
     "output_type": "execute_result"
    }
   ],
   "source": [
    "str1='  python  '\n",
    "str2='**pythn**'\n",
    "str3='  python**'\n",
    "str1.strip()"
   ]
  },
  {
   "cell_type": "code",
   "execution_count": 26,
   "id": "fb11033c",
   "metadata": {},
   "outputs": [
    {
     "data": {
      "text/plain": [
       "'pythn**'"
      ]
     },
     "execution_count": 26,
     "metadata": {},
     "output_type": "execute_result"
    }
   ],
   "source": [
    "str2.lstrip('*')"
   ]
  },
  {
   "cell_type": "code",
   "execution_count": 27,
   "id": "2dba983d",
   "metadata": {},
   "outputs": [
    {
     "data": {
      "text/plain": [
       "'  python'"
      ]
     },
     "execution_count": 27,
     "metadata": {},
     "output_type": "execute_result"
    }
   ],
   "source": [
    "str3.rstrip('*')"
   ]
  },
  {
   "cell_type": "code",
   "execution_count": 34,
   "id": "34036063",
   "metadata": {},
   "outputs": [
    {
     "data": {
      "text/plain": [
       "True"
      ]
     },
     "execution_count": 34,
     "metadata": {},
     "output_type": "execute_result"
    }
   ],
   "source": [
    "str1='python'\n",
    "str1.startswith('p')"
   ]
  },
  {
   "cell_type": "markdown",
   "id": "36d891e7",
   "metadata": {},
   "source": [
    "**Count**"
   ]
  },
  {
   "cell_type": "code",
   "execution_count": 40,
   "id": "7a70efb1",
   "metadata": {},
   "outputs": [
    {
     "name": "stdout",
     "output_type": "stream",
     "text": [
      "2\n",
      "6\n",
      "10\n",
      "3\n",
      "11\n"
     ]
    }
   ],
   "source": [
    "str1='ola ola ola'\n",
    "l=len(str1)\n",
    "count=0\n",
    "for i in range(0,l):\n",
    "    if str1[i]=='a':\n",
    "        count=count+1\n",
    "        print(i)\n",
    "print(count)\n",
    "print(l)"
   ]
  },
  {
   "cell_type": "code",
   "execution_count": 38,
   "id": "3815170d",
   "metadata": {},
   "outputs": [
    {
     "data": {
      "text/plain": [
       "3"
      ]
     },
     "execution_count": 38,
     "metadata": {},
     "output_type": "execute_result"
    }
   ],
   "source": [
    "str1.count('a')"
   ]
  },
  {
   "cell_type": "code",
   "execution_count": 41,
   "id": "72247eae",
   "metadata": {},
   "outputs": [
    {
     "data": {
      "text/plain": [
       "2"
      ]
     },
     "execution_count": 41,
     "metadata": {},
     "output_type": "execute_result"
    }
   ],
   "source": [
    "#-11 -10 -9 -8 -7 -6 -5 -4 -3 -2 -1\n",
    "#o   l   a      o   l  a     o  l  a\n",
    "#o  l  a     o  l  a     o  l  a\n",
    "#0  1  2  3  4  5  6  7  8  9  10\n",
    "str1.count('a',4)\n"
   ]
  },
  {
   "cell_type": "code",
   "execution_count": 52,
   "id": "45958f2b",
   "metadata": {},
   "outputs": [
    {
     "name": "stdout",
     "output_type": "stream",
     "text": [
      "ola ola ola\n"
     ]
    }
   ],
   "source": [
    "print(str1)\n",
    "#start 4 positive direction stop 6-1 = 5"
   ]
  },
  {
   "cell_type": "code",
   "execution_count": 56,
   "id": "60d02ba1",
   "metadata": {},
   "outputs": [
    {
     "data": {
      "text/plain": [
       "1"
      ]
     },
     "execution_count": 56,
     "metadata": {},
     "output_type": "execute_result"
    }
   ],
   "source": [
    "str1.count('a',-4,11)"
   ]
  },
  {
   "cell_type": "code",
   "execution_count": 61,
   "id": "5cfb6b57",
   "metadata": {},
   "outputs": [
    {
     "data": {
      "text/plain": [
       "'ola'"
      ]
     },
     "execution_count": 61,
     "metadata": {},
     "output_type": "execute_result"
    }
   ],
   "source": [
    "str1='ola ola ola'\n",
    "str1[0:3]"
   ]
  },
  {
   "cell_type": "code",
   "execution_count": 66,
   "id": "b555a194",
   "metadata": {},
   "outputs": [
    {
     "name": "stdout",
     "output_type": "stream",
     "text": [
      "3\n"
     ]
    }
   ],
   "source": [
    "count=0\n",
    "for i in range(len(str1)):\n",
    "    if str1[i:i+3]=='ola':\n",
    "        count=count+1\n",
    "print(count)"
   ]
  },
  {
   "cell_type": "markdown",
   "id": "6adf5e4b",
   "metadata": {},
   "source": [
    "**Replace**"
   ]
  },
  {
   "cell_type": "code",
   "execution_count": 71,
   "id": "aecef0c1",
   "metadata": {},
   "outputs": [
    {
     "data": {
      "text/plain": [
       "'wElcomE'"
      ]
     },
     "execution_count": 71,
     "metadata": {},
     "output_type": "execute_result"
    }
   ],
   "source": [
    "str1='welcome'\n",
    "str1.replace('e','E',2)"
   ]
  },
  {
   "cell_type": "code",
   "execution_count": 72,
   "id": "dd5fc110",
   "metadata": {},
   "outputs": [
    {
     "data": {
      "text/plain": [
       "'$estart'"
      ]
     },
     "execution_count": 72,
     "metadata": {},
     "output_type": "execute_result"
    }
   ],
   "source": [
    "str1='restart'\n",
    "for i in range(len(str1)):\n",
    "    if str1[i]=='r':\n",
    "        break\n",
    "str1.replace('r','$',1)"
   ]
  },
  {
   "cell_type": "code",
   "execution_count": 74,
   "id": "ec6d6fb7",
   "metadata": {},
   "outputs": [
    {
     "data": {
      "text/plain": [
       "'resta$t'"
      ]
     },
     "execution_count": 74,
     "metadata": {},
     "output_type": "execute_result"
    }
   ],
   "source": [
    "str1='restart'\n",
    "s1=str1[0:5]\n",
    "s2=str1[5:]\n",
    "s3=s2.replace('r','$')\n",
    "s1+s3\n"
   ]
  },
  {
   "cell_type": "code",
   "execution_count": 79,
   "id": "69568a3a",
   "metadata": {},
   "outputs": [
    {
     "data": {
      "text/plain": [
       "'resta$t'"
      ]
     },
     "execution_count": 79,
     "metadata": {},
     "output_type": "execute_result"
    }
   ],
   "source": [
    "str1[::-1].replace('r','$',1)[::-1]"
   ]
  },
  {
   "cell_type": "markdown",
   "id": "e5264ccb",
   "metadata": {},
   "source": [
    "**index method**"
   ]
  },
  {
   "cell_type": "code",
   "execution_count": 98,
   "id": "d25834fb",
   "metadata": {},
   "outputs": [
    {
     "name": "stdout",
     "output_type": "stream",
     "text": [
      "0\n",
      "5\n",
      "8\n",
      "13\n"
     ]
    }
   ],
   "source": [
    "str1='restart restart'\n",
    "i1=str1.index('r')\n",
    "i2=str1.index('r',i1+1) #1=0+1 (previous index +1)\n",
    "i3=str1.index('r',i2+1)  #6=5+1\n",
    "i4=str1.index('r',i3+1)  #9=8+1\n",
    "print(i1)\n",
    "print(i2)\n",
    "print(i3)\n",
    "print(i4)"
   ]
  },
  {
   "cell_type": "code",
   "execution_count": 105,
   "id": "b1580afb",
   "metadata": {},
   "outputs": [
    {
     "data": {
      "text/plain": [
       "13"
      ]
     },
     "execution_count": 105,
     "metadata": {},
     "output_type": "execute_result"
    }
   ],
   "source": [
    "str1.find('r',9)"
   ]
  },
  {
   "cell_type": "code",
   "execution_count": null,
   "id": "b79ff397",
   "metadata": {},
   "outputs": [],
   "source": [
    "i1=str1.index('r')"
   ]
  },
  {
   "cell_type": "markdown",
   "id": "473efe39",
   "metadata": {},
   "source": [
    "upper\n",
    "\n",
    "- lower\n",
    "\n",
    "- title\n",
    "\n",
    "- capitalize\n",
    "\n",
    "- casefold\n",
    "\n",
    "- center\n",
    "\n",
    "- rstrip\n",
    "\n",
    "- lstrip\n",
    "\n",
    "- strip\n",
    "\n",
    "- startswith"
   ]
  },
  {
   "cell_type": "code",
   "execution_count": 110,
   "id": "15bd48e7",
   "metadata": {},
   "outputs": [
    {
     "data": {
      "text/plain": [
       "True"
      ]
     },
     "execution_count": 110,
     "metadata": {},
     "output_type": "execute_result"
    }
   ],
   "source": [
    "str1=\"hell how are you\"\n",
    "str1.startswith('h')"
   ]
  },
  {
   "cell_type": "markdown",
   "id": "3884345e",
   "metadata": {},
   "source": [
    "Practice\n",
    "- count\n",
    "\n",
    "- replace\n",
    "\n",
    "- find\n",
    "\n",
    "- index"
   ]
  },
  {
   "cell_type": "code",
   "execution_count": 112,
   "id": "39bdc288",
   "metadata": {},
   "outputs": [
    {
     "data": {
      "text/plain": [
       "2"
      ]
     },
     "execution_count": 112,
     "metadata": {},
     "output_type": "execute_result"
    }
   ],
   "source": [
    "str1=\"hell how are you\"\n",
    "str1.count('h')"
   ]
  },
  {
   "cell_type": "code",
   "execution_count": 113,
   "id": "19d76de3",
   "metadata": {},
   "outputs": [
    {
     "data": {
      "text/plain": [
       "'Hell How are you'"
      ]
     },
     "execution_count": 113,
     "metadata": {},
     "output_type": "execute_result"
    }
   ],
   "source": [
    "str1.replace('h','H',2)"
   ]
  },
  {
   "cell_type": "code",
   "execution_count": 114,
   "id": "654397fe",
   "metadata": {},
   "outputs": [
    {
     "data": {
      "text/plain": [
       "0"
      ]
     },
     "execution_count": 114,
     "metadata": {},
     "output_type": "execute_result"
    }
   ],
   "source": [
    "str1.find('h')"
   ]
  },
  {
   "cell_type": "code",
   "execution_count": 115,
   "id": "2d972a60",
   "metadata": {},
   "outputs": [
    {
     "data": {
      "text/plain": [
       "9"
      ]
     },
     "execution_count": 115,
     "metadata": {},
     "output_type": "execute_result"
    }
   ],
   "source": [
    "str1.index('a')"
   ]
  },
  {
   "cell_type": "code",
   "execution_count": 116,
   "id": "ae4f30ad",
   "metadata": {},
   "outputs": [
    {
     "data": {
      "text/plain": [
       "'l '"
      ]
     },
     "execution_count": 116,
     "metadata": {},
     "output_type": "execute_result"
    }
   ],
   "source": [
    "str1[2:5:2]"
   ]
  },
  {
   "cell_type": "code",
   "execution_count": 134,
   "id": "d4d97153",
   "metadata": {},
   "outputs": [
    {
     "name": "stdout",
     "output_type": "stream",
     "text": [
      "first name virat\n",
      "Last name kohli\n",
      "company rcb\n",
      "First rohit\n",
      "Last sharma\n",
      "Comapny mi\n"
     ]
    }
   ],
   "source": [
    "str1='virat.kohli@rcb.com'\n",
    "str2='rohit.sharma@mi.com'\n",
    "str3='ms.dhoni@csk.com'\n",
    "id1=str1.index('.')\n",
    "print('first name', str1[0:id1])\n",
    "id2=str1.index('@')\n",
    "print('Last name', str1[id1+1:id2])\n",
    "id3=str1.index('.',id2+1)\n",
    "print('company', str1[id2+1:id3])\n",
    "\n",
    "def first(str1):\n",
    "    id1=str1.index('.') \n",
    "    return str1[0:id1]\n",
    "\n",
    "def last(str1):\n",
    "    id1=str1.index('.')\n",
    "    id2=str1.index('@')\n",
    "    return str1[id1+1:id2]\n",
    "\n",
    "def company(str1):\n",
    "    id2=str1.index('@')\n",
    "    id3=str1.index('.',id2+1)\n",
    "    return str1[id2+1:id3]\n",
    "\n",
    "print('First', first(str2))\n",
    "print('Last', last(str2))\n",
    "print('Comapny', company(str2))\n"
   ]
  },
  {
   "cell_type": "code",
   "execution_count": 136,
   "id": "c410d92a",
   "metadata": {},
   "outputs": [
    {
     "data": {
      "text/plain": [
       "['hai', 'how', 'are', 'you']"
      ]
     },
     "execution_count": 136,
     "metadata": {},
     "output_type": "execute_result"
    }
   ],
   "source": [
    "str1='hai how are you'\n",
    "l=str1.split(' ')\n",
    "l"
   ]
  },
  {
   "cell_type": "code",
   "execution_count": 137,
   "id": "29e70e40",
   "metadata": {},
   "outputs": [
    {
     "data": {
      "text/plain": [
       "'hai how are you'"
      ]
     },
     "execution_count": 137,
     "metadata": {},
     "output_type": "execute_result"
    }
   ],
   "source": [
    "' '.join(l)"
   ]
  },
  {
   "cell_type": "code",
   "execution_count": 139,
   "id": "abd32590",
   "metadata": {},
   "outputs": [
    {
     "data": {
      "text/plain": [
       "'hai**how**are**you'"
      ]
     },
     "execution_count": 139,
     "metadata": {},
     "output_type": "execute_result"
    }
   ],
   "source": [
    "'**'.join(l)"
   ]
  },
  {
   "cell_type": "code",
   "execution_count": 1,
   "id": "46bb5bd7",
   "metadata": {},
   "outputs": [
    {
     "data": {
      "text/plain": [
       "['the', 'telephone', 'numer', 'us', '123456']"
      ]
     },
     "execution_count": 1,
     "metadata": {},
     "output_type": "execute_result"
    }
   ],
   "source": [
    "str1='the telephone numer us 123456'\n",
    "str1.split(' ')"
   ]
  },
  {
   "cell_type": "code",
   "execution_count": 2,
   "id": "5c29fe95",
   "metadata": {},
   "outputs": [
    {
     "data": {
      "text/plain": [
       "'telephone numer us 123456'"
      ]
     },
     "execution_count": 2,
     "metadata": {},
     "output_type": "execute_result"
    }
   ],
   "source": [
    "str1[4:]"
   ]
  },
  {
   "cell_type": "code",
   "execution_count": 14,
   "id": "9258b959",
   "metadata": {},
   "outputs": [
    {
     "name": "stdout",
     "output_type": "stream",
     "text": [
      "123456\n"
     ]
    }
   ],
   "source": [
    "str1='the telephone numer us 123456'\n",
    "str2=''\n",
    "for i in str1: \n",
    "    boo = i.isdigit()\n",
    "    if boo == True:\n",
    "        str2=str2+i\n",
    "print(str2)"
   ]
  },
  {
   "cell_type": "code",
   "execution_count": null,
   "id": "34bb446c",
   "metadata": {},
   "outputs": [],
   "source": []
  },
  {
   "cell_type": "code",
   "execution_count": null,
   "id": "44798239",
   "metadata": {},
   "outputs": [],
   "source": []
  }
 ],
 "metadata": {
  "kernelspec": {
   "display_name": "Python 3 (ipykernel)",
   "language": "python",
   "name": "python3"
  },
  "language_info": {
   "codemirror_mode": {
    "name": "ipython",
    "version": 3
   },
   "file_extension": ".py",
   "mimetype": "text/x-python",
   "name": "python",
   "nbconvert_exporter": "python",
   "pygments_lexer": "ipython3",
   "version": "3.11.5"
  }
 },
 "nbformat": 4,
 "nbformat_minor": 5
}
