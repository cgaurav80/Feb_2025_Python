{
 "cells": [
  {
   "cell_type": "markdown",
   "id": "e532e44f",
   "metadata": {},
   "source": [
    "# conditional statements\n",
    "\n",
    "- conditional statement r used to execute code based on a condition\n",
    "- if else statements\n",
    "- if-else if-elif-else"
   ]
  },
  {
   "cell_type": "code",
   "execution_count": null,
   "id": "74e87510",
   "metadata": {},
   "outputs": [],
   "source": [
    "#if <condition>:\n",
    "    # write your code here\n",
    "#num = 10  #variable assignment\n",
    "#num==100 # condition check"
   ]
  },
  {
   "cell_type": "code",
   "execution_count": 11,
   "id": "c6bbe240",
   "metadata": {},
   "outputs": [
    {
     "name": "stdout",
     "output_type": "stream",
     "text": [
      "num:45. True\n"
     ]
    }
   ],
   "source": [
    "import random\n",
    "num = random.randint(1,100)\n",
    "if num > 50 and num < 100:\n",
    "    print(f\"num: {num}. False\")\n",
    "else:\n",
    "    print(f\"num:{num}. True\")"
   ]
  },
  {
   "cell_type": "code",
   "execution_count": 12,
   "id": "65fbc908",
   "metadata": {},
   "outputs": [
    {
     "name": "stdout",
     "output_type": "stream",
     "text": [
      "hello\n"
     ]
    }
   ],
   "source": [
    "if bool(100):\n",
    "    print('hello')"
   ]
  },
  {
   "cell_type": "code",
   "execution_count": 13,
   "id": "a60362c3",
   "metadata": {},
   "outputs": [
    {
     "data": {
      "text/plain": [
       "True"
      ]
     },
     "execution_count": 13,
     "metadata": {},
     "output_type": "execute_result"
    }
   ],
   "source": [
    "bool(100)"
   ]
  },
  {
   "cell_type": "code",
   "execution_count": null,
   "id": "4d583863",
   "metadata": {},
   "outputs": [],
   "source": [
    "**if-else statement **\n",
    "if 100>0:\n",
    "    print(\"positive num\")\n",
    "else:\n",
    "    print('negative num')"
   ]
  },
  {
   "cell_type": "code",
   "execution_count": 1,
   "id": "f789ddfe",
   "metadata": {},
   "outputs": [
    {
     "name": "stdout",
     "output_type": "stream",
     "text": [
      "ENter number110\n",
      "ENter number220\n",
      "Num2 :20 is greater then Num1 10\n"
     ]
    }
   ],
   "source": [
    "#wap ask user enter two numbers\n",
    "#find greater number\n",
    "n1 = eval(input(\"ENter number1\"))\n",
    "n2 = eval(input(\"ENter number2\"))\n",
    "if n1>n2:\n",
    "    print(f\"Num1 :{n1} is greater then Num2 {n2}\")\n",
    "else:\n",
    "    print(f\"Num2 :{n2} is greater then Num1 {n1}\")"
   ]
  },
  {
   "cell_type": "code",
   "execution_count": 2,
   "id": "8c1e883f",
   "metadata": {},
   "outputs": [
    {
     "name": "stdout",
     "output_type": "stream",
     "text": [
      "Num2 :66 is greater then Num1 2\n"
     ]
    }
   ],
   "source": [
    "import random\n",
    "n1 = random.randint(1,100)\n",
    "n2 = random.randint(1, 100)\n",
    "if n1>n2:\n",
    "    print(f\"Num1 :{n1} is greater then Num2 {n2}\")\n",
    "else:\n",
    "    print(f\"Num2 :{n2} is greater then Num1 {n1}\")"
   ]
  },
  {
   "cell_type": "code",
   "execution_count": 4,
   "id": "5716d832",
   "metadata": {},
   "outputs": [
    {
     "name": "stdout",
     "output_type": "stream",
     "text": [
      "enter the distance45\n",
      "45 km is greater than 25 km\n",
      "Enter charge per km10\n",
      "Total charge is 450\n"
     ]
    }
   ],
   "source": [
    "#wap ask the user enter distance\n",
    "#if distance greater than 25km\n",
    "# then ask the charge per km\n",
    "#calculate charge\n",
    "#otherwise free ride\n",
    "n1 = eval(input(\"enter the distance\"))\n",
    "if n1>25:\n",
    "    print(f\"{n1} km is greater than 25 km\")\n",
    "    charge = eval(input(\"Enter charge per km\"))\n",
    "    total_charge = n1 * charge\n",
    "    print(f\"Total charge is {total_charge}\")\n",
    "else:\n",
    "    print(\"No charge\")"
   ]
  },
  {
   "cell_type": "code",
   "execution_count": 9,
   "id": "b2e0b657",
   "metadata": {},
   "outputs": [
    {
     "name": "stdout",
     "output_type": "stream",
     "text": [
      "enter the number5\n",
      "Lost\n"
     ]
    }
   ],
   "source": [
    "import random\n",
    "n1 = eval(input(\"enter the number\"))\n",
    "n2 = random.randint(1,10)\n",
    "if n1==n2:\n",
    "    print(f\"Random number is {n2}, Lucky won\")\n",
    "else:\n",
    "    print(\"Lost\")\n"
   ]
  },
  {
   "cell_type": "code",
   "execution_count": 13,
   "id": "87a3fd25",
   "metadata": {},
   "outputs": [
    {
     "name": "stdout",
     "output_type": "stream",
     "text": [
      "enter the number4\n",
      "Lost\n"
     ]
    }
   ],
   "source": [
    "import random\n",
    "\n",
    "n1 = eval(input(\"enter the number\"))\n",
    "n2 = random.randint(1,10)\n",
    "if n1==n2:\n",
    "    print(f\"Random number is {n2}, Lucky won\")\n",
    "else:\n",
    "    print(\"Lost\")"
   ]
  },
  {
   "cell_type": "code",
   "execution_count": 3,
   "id": "9944e0ad",
   "metadata": {},
   "outputs": [
    {
     "name": "stdout",
     "output_type": "stream",
     "text": [
      "ENter a number2\n",
      "two\n"
     ]
    }
   ],
   "source": [
    "n1 = eval(input(\"ENter a number\"))\n",
    "if n1==1:\n",
    "    print(\"one\")\n",
    "elif n1==2:\n",
    "    print('two')\n",
    "elif n1==3:\n",
    "    print('three')\n",
    "else:\n",
    "    print('Enter valid no')\n"
   ]
  },
  {
   "cell_type": "code",
   "execution_count": 5,
   "id": "72b5307e",
   "metadata": {},
   "outputs": [
    {
     "name": "stdout",
     "output_type": "stream",
     "text": [
      "Enter percentage% of marks60\n",
      "C grade\n"
     ]
    }
   ],
   "source": [
    "p1 = eval(input(\"Enter percentage% of marks\"))\n",
    "if p1 > 90:\n",
    "    print(\"A grade\")\n",
    "elif p1>70 and p1<=90:\n",
    "    print(\"B grade\")\n",
    "elif p1>50 and p1<=70:\n",
    "    print(\"C grade\")\n",
    "elif p1>35 and p1<=50:\n",
    "    print(\"D grade\")\n",
    "else:\n",
    "    print(\"Fail\")"
   ]
  },
  {
   "cell_type": "code",
   "execution_count": null,
   "id": "09a6e676",
   "metadata": {},
   "outputs": [],
   "source": [
    "age = eval(input(\"Enter age\"))\n",
    "if age >=100:\n",
    "    print(\"unlucky\")\n",
    "elif age >=80:\n",
    "    print(\"Old guy\")\n",
    "elif age >=60:\n",
    "    print(\"SS guy\")\n",
    "elif age >=40:\n",
    "    print(\"MA guy\")\n",
    "elif age >=20:\n",
    "    print(\"young guy\")\n",
    "elif age >=10:\n",
    "    print(\"teenage guy\")\n",
    "else:\n",
    "    print(\"kid\")"
   ]
  },
  {
   "cell_type": "code",
   "execution_count": 13,
   "id": "afe46e37",
   "metadata": {},
   "outputs": [
    {
     "name": "stdout",
     "output_type": "stream",
     "text": [
      "Enter gender: f\n",
      "Enter age35\n",
      "MA woman\n"
     ]
    }
   ],
   "source": [
    "gender = input(\"Enter gender: \")\n",
    "if gender == \"male\" or gender == \"M\" or gender==\"m\":\n",
    "    age = eval(input(\"Enter age\"))\n",
    "    if age >=60:\n",
    "        print(\"SS\")\n",
    "    elif age >=30:\n",
    "        print(\"MA man\")\n",
    "    elif age >=15:\n",
    "        print(\"young man\")\n",
    "    else:\n",
    "        print(\"boy\")\n",
    "elif gender == \"female\" or gender == \"F\" or gender==\"f\":\n",
    "    age = eval(input(\"Enter age\"))\n",
    "    if age >=60:\n",
    "        print(\"SS\")\n",
    "    elif age >=30:\n",
    "        print(\"MA woman\")\n",
    "    elif age >=15:\n",
    "        print(\"young girl\")\n",
    "    else:\n",
    "        print(\"girl\")\n",
    "else:\n",
    "    print(\"Enter valid gender\")"
   ]
  },
  {
   "cell_type": "code",
   "execution_count": 16,
   "id": "609dcabc",
   "metadata": {},
   "outputs": [
    {
     "name": "stdout",
     "output_type": "stream",
     "text": [
      "Enter number-45\n",
      "-ve no\n"
     ]
    }
   ],
   "source": [
    "num = eval(input(\"Enter number\"))\n",
    "if num >=0:\n",
    "    if num>0:print(\"+ve no\")\n",
    "    else:print(\"zero\")\n",
    "else:\n",
    "    print(\"-ve no\")"
   ]
  },
  {
   "cell_type": "code",
   "execution_count": 18,
   "id": "3c5c0f96",
   "metadata": {},
   "outputs": [
    {
     "name": "stdout",
     "output_type": "stream",
     "text": [
      "Enter 1 for addition\n",
      "Enter 2 for substract\n",
      "Enter 3 for Multiply\n",
      "Enter 4 for Divison\n"
     ]
    },
    {
     "ename": "KeyboardInterrupt",
     "evalue": "Interrupted by user",
     "output_type": "error",
     "traceback": [
      "\u001b[1;31m---------------------------------------------------------------------------\u001b[0m",
      "\u001b[1;31mKeyboardInterrupt\u001b[0m                         Traceback (most recent call last)",
      "Cell \u001b[1;32mIn[18], line 5\u001b[0m\n\u001b[0;32m      3\u001b[0m \u001b[38;5;28mprint\u001b[39m(\u001b[38;5;124m\"\u001b[39m\u001b[38;5;124mEnter 3 for Multiply\u001b[39m\u001b[38;5;124m\"\u001b[39m)\n\u001b[0;32m      4\u001b[0m \u001b[38;5;28mprint\u001b[39m(\u001b[38;5;124m\"\u001b[39m\u001b[38;5;124mEnter 4 for Divison\u001b[39m\u001b[38;5;124m\"\u001b[39m)\n\u001b[1;32m----> 5\u001b[0m num \u001b[38;5;241m=\u001b[39m \u001b[38;5;28meval\u001b[39m(\u001b[38;5;28minput\u001b[39m(\u001b[38;5;124m\"\u001b[39m\u001b[38;5;124mEnter no between 1 to 4\u001b[39m\u001b[38;5;124m\"\u001b[39m))\n",
      "File \u001b[1;32m~\\install\\anaconda3\\Lib\\site-packages\\ipykernel\\kernelbase.py:1202\u001b[0m, in \u001b[0;36mKernel.raw_input\u001b[1;34m(self, prompt)\u001b[0m\n\u001b[0;32m   1200\u001b[0m     msg \u001b[38;5;241m=\u001b[39m \u001b[38;5;124m\"\u001b[39m\u001b[38;5;124mraw_input was called, but this frontend does not support input requests.\u001b[39m\u001b[38;5;124m\"\u001b[39m\n\u001b[0;32m   1201\u001b[0m     \u001b[38;5;28;01mraise\u001b[39;00m StdinNotImplementedError(msg)\n\u001b[1;32m-> 1202\u001b[0m \u001b[38;5;28;01mreturn\u001b[39;00m \u001b[38;5;28mself\u001b[39m\u001b[38;5;241m.\u001b[39m_input_request(\n\u001b[0;32m   1203\u001b[0m     \u001b[38;5;28mstr\u001b[39m(prompt),\n\u001b[0;32m   1204\u001b[0m     \u001b[38;5;28mself\u001b[39m\u001b[38;5;241m.\u001b[39m_parent_ident[\u001b[38;5;124m\"\u001b[39m\u001b[38;5;124mshell\u001b[39m\u001b[38;5;124m\"\u001b[39m],\n\u001b[0;32m   1205\u001b[0m     \u001b[38;5;28mself\u001b[39m\u001b[38;5;241m.\u001b[39mget_parent(\u001b[38;5;124m\"\u001b[39m\u001b[38;5;124mshell\u001b[39m\u001b[38;5;124m\"\u001b[39m),\n\u001b[0;32m   1206\u001b[0m     password\u001b[38;5;241m=\u001b[39m\u001b[38;5;28;01mFalse\u001b[39;00m,\n\u001b[0;32m   1207\u001b[0m )\n",
      "File \u001b[1;32m~\\install\\anaconda3\\Lib\\site-packages\\ipykernel\\kernelbase.py:1245\u001b[0m, in \u001b[0;36mKernel._input_request\u001b[1;34m(self, prompt, ident, parent, password)\u001b[0m\n\u001b[0;32m   1242\u001b[0m \u001b[38;5;28;01mexcept\u001b[39;00m \u001b[38;5;167;01mKeyboardInterrupt\u001b[39;00m:\n\u001b[0;32m   1243\u001b[0m     \u001b[38;5;66;03m# re-raise KeyboardInterrupt, to truncate traceback\u001b[39;00m\n\u001b[0;32m   1244\u001b[0m     msg \u001b[38;5;241m=\u001b[39m \u001b[38;5;124m\"\u001b[39m\u001b[38;5;124mInterrupted by user\u001b[39m\u001b[38;5;124m\"\u001b[39m\n\u001b[1;32m-> 1245\u001b[0m     \u001b[38;5;28;01mraise\u001b[39;00m \u001b[38;5;167;01mKeyboardInterrupt\u001b[39;00m(msg) \u001b[38;5;28;01mfrom\u001b[39;00m \u001b[38;5;28;01mNone\u001b[39;00m\n\u001b[0;32m   1246\u001b[0m \u001b[38;5;28;01mexcept\u001b[39;00m \u001b[38;5;167;01mException\u001b[39;00m:\n\u001b[0;32m   1247\u001b[0m     \u001b[38;5;28mself\u001b[39m\u001b[38;5;241m.\u001b[39mlog\u001b[38;5;241m.\u001b[39mwarning(\u001b[38;5;124m\"\u001b[39m\u001b[38;5;124mInvalid Message:\u001b[39m\u001b[38;5;124m\"\u001b[39m, exc_info\u001b[38;5;241m=\u001b[39m\u001b[38;5;28;01mTrue\u001b[39;00m)\n",
      "\u001b[1;31mKeyboardInterrupt\u001b[0m: Interrupted by user"
     ]
    }
   ],
   "source": [
    "print(\"Enter 1 for addition\")\n",
    "print(\"Enter 2 for substract\")\n",
    "print(\"Enter 3 for Multiply\")\n",
    "print(\"Enter 4 for Divison\")\n",
    "num = eval(input(\"Enter no between 1 to 4\"))"
   ]
  },
  {
   "cell_type": "code",
   "execution_count": 19,
   "id": "8d7ff1a6",
   "metadata": {},
   "outputs": [
    {
     "name": "stdout",
     "output_type": "stream",
     "text": [
      "Enter 1 for addition\n",
      "Enter 2 for substract\n",
      "Enter 3 for Multiply\n",
      "Enter 4 for Divison\n",
      "Enter no between 1 to 41\n"
     ]
    }
   ],
   "source": [
    "print(\"Enter 1 for addition\")\n",
    "print(\"Enter 2 for substract\")\n",
    "print(\"Enter 3 for Multiply\")\n",
    "print(\"Enter 4 for Divison\")\n",
    "num = eval(input(\"Enter no between 1 to 4\"))"
   ]
  },
  {
   "cell_type": "code",
   "execution_count": 21,
   "id": "682839ef",
   "metadata": {},
   "outputs": [
    {
     "name": "stdout",
     "output_type": "stream",
     "text": [
      "Enter 1 for addition \n",
      "\n",
      "Enter 2 for substract \n",
      "\n",
      "Enter 3 for Multiply \n",
      "\n",
      "Enter 4 for Divison\n",
      "Enter no between 1 to 41\n",
      "138\n"
     ]
    }
   ],
   "source": [
    "import random\n",
    "print(\"Enter 1 for addition \\n\")\n",
    "print(\"Enter 2 for substract \\n\")\n",
    "print(\"Enter 3 for Multiply \\n\")\n",
    "print(\"Enter 4 for Divison\")\n",
    "num = eval(input(\"Enter no between 1 to 4\"))\n",
    "match num:\n",
    "    case 1:\n",
    "        n1=random.randint(1,100)\n",
    "        n2=random.randint(1,100)\n",
    "        print(n1+n2)\n",
    "    case 2:\n",
    "        n1=random.randint(1,100)\n",
    "        n2=random.randint(1,100)\n",
    "        print(n1-n2) \n",
    "    case 3:\n",
    "        n1=random.randint(1,100)\n",
    "        n2=random.randint(1,100)\n",
    "        print(n1*n2)\n",
    "    case 4:\n",
    "        n1=random.randint(1,100)\n",
    "        n2=random.randint(1,100)\n",
    "        print(n1/n2)"
   ]
  },
  {
   "cell_type": "code",
   "execution_count": null,
   "id": "c72583b4",
   "metadata": {},
   "outputs": [],
   "source": []
  }
 ],
 "metadata": {
  "kernelspec": {
   "display_name": "Python 3 (ipykernel)",
   "language": "python",
   "name": "python3"
  },
  "language_info": {
   "codemirror_mode": {
    "name": "ipython",
    "version": 3
   },
   "file_extension": ".py",
   "mimetype": "text/x-python",
   "name": "python",
   "nbconvert_exporter": "python",
   "pygments_lexer": "ipython3",
   "version": "3.11.5"
  }
 },
 "nbformat": 4,
 "nbformat_minor": 5
}
